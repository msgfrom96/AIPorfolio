{
  "cells": [
    {
      "cell_type": "markdown",
      "metadata": {
        "id": "7dkmO9OikiWk"
      },
      "source": [
        "Maurice Salomon Gleiser Gherson,\n",
        " Zachary Guccione,\n",
        " Rishab Deswal,\n",
        " Javier Sayles"
      ]
    },
    {
      "cell_type": "markdown",
      "metadata": {
        "id": "IiIPKCvybtSn"
      },
      "source": [
        "1. Customer Growth Trends:\n",
        "In a growing SaaS company, customer acquisition typically grows steadily, but churn (customer loss) may also increase if the company struggles with resources, like limited developers. We’ll simulate quarterly data showing a steady rise in customers but also reflect some churn.\n",
        "\n",
        "2. Feature Requests & Development Backlog:\n",
        "A small development team typically struggles to keep up with increasing feature requests as more customers join. The backlog (unaddressed requests) grows as the team cannot implement or resolve customer requests at the pace of the rising demand.\n",
        "\n",
        "3. Revenue Impact:\n",
        "Revenue impact is tied directly to feature releases and customer satisfaction. Delays in releasing new features can result in missed revenue opportunities or increased churn if the product does not meet customer needs. We’ll model how this affects both potential and actual revenue.\n",
        "\n"
      ]
    },
    {
      "cell_type": "markdown",
      "metadata": {
        "id": "gniLWzXPcCQc"
      },
      "source": [
        "Hypothetical Data:\n",
        "\n",
        "Quarterly Data: A fast-growing SaaS company over eight quarters, with increasing customer numbers, new signups, and a steady retention rate.\n",
        "\n",
        "Development Backlog: The backlog grows as the development team remains small while the feature requests from an expanding customer base increase.\n",
        "\n",
        "Revenue Impact: The impact of delayed features on lost revenue opportunities grows over time."
      ]
    },
    {
      "cell_type": "code",
      "execution_count": 1,
      "metadata": {
        "id": "t0UKFvdSbGJR"
      },
      "outputs": [],
      "source": [
        "import numpy as np\n",
        "import pandas as pd\n",
        "\n",
        "# Setting a random seed for reproducibility\n",
        "np.random.seed(42)\n",
        "\n",
        "# Creating a time series for the past 8 quarters\n",
        "quarters = ['Q1 2022', 'Q2 2022', 'Q3 2022', 'Q4 2022', 'Q1 2023', 'Q2 2023', 'Q3 2023', 'Q4 2023']\n",
        "\n",
        "# Generating customer growth data with gradual increase\n",
        "customers = [500, 550, 600, 680, 750, 820, 900, 980]  # gradual growth in customer base\n",
        "new_signups = [100, 120, 130, 140, 150, 160, 170, 180]  # steady increase in new signups\n",
        "retention_rate = [0.90, 0.89, 0.88, 0.87, 0.87, 0.88, 0.89, 0.90]  # retention rates stabilizing\n",
        "churn_rate = [0.10, 0.11, 0.12, 0.13, 0.13, 0.12, 0.11, 0.10]  # churn rate inverse of retention rate\n",
        "\n",
        "# Creating dictionaries to store data\n",
        "data_dict = {\n",
        "    \"Quarter\": quarters,\n",
        "    \"Customers\": customers,\n",
        "    \"New_Signups\": new_signups,\n",
        "    \"Retention_Rate\": retention_rate,\n",
        "    \"Churn_Rate\": churn_rate\n",
        "}\n",
        "\n",
        "# Converting the data to a pandas DataFrame for better representation\n",
        "df = pd.DataFrame(data_dict)"
      ]
    },
    {
      "cell_type": "markdown",
      "metadata": {},
      "source": [
        "# Optimizing E-Ticket Response Time and Developer Efficiency\n",
        "<ul>\n",
        "<li>Operational Efficiency: By optimizing developer resources, we ensure that our team is working on the most important tasks efficiently.</li>\n",
        "<li>Increased Customer Satisfaction: Faster ticket resolution leads to happier customers, which directly affects retention and satisfaction.</li>\n",
        "<li>Revenue Impact: Delays in ticket resolution can lead to missed opportunities and direct revenue loss.</li>\n",
        "<li>Competitive Advantage: Companies with faster response times to technical issues and feature requests are more likely to retain customers and grow their market share.</li>\n",
        "</ul> "
      ]
    },
    {
      "cell_type": "markdown",
      "metadata": {},
      "source": [
        "# Developer Efficiency: <br>The average number of unresolved tickets per developer has increased across all categories from 2020 to 2024.\n",
        "# Categories Affected: <br>The most affected categories are Technical Issues, Product Malfunctions, and Feature Request Issues.\n",
        "# Why it Matters: <br>In the current state, developers are become overburdened, which might reduce their overall efficiency and potentially lead to burnout and/or them quitting."
      ]
    },
    {
      "cell_type": "code",
      "execution_count": 3,
      "metadata": {
        "colab": {
          "base_uri": "https://localhost:8080/",
          "height": 542
        },
        "id": "FI2eRHZKn1kE",
        "outputId": "2afaab65-bbd8-4279-d178-f8cda029a5d9"
      },
      "outputs": [
        {
          "data": {
            "application/vnd.plotly.v1+json": {
              "config": {
                "plotlyServerURL": "https://plot.ly"
              },
              "data": [
                {
                  "alignmentgroup": "True",
                  "hovertemplate": "Year=2020<br>Unresolved Tickets Per Developer=%{x}<br>Ticket Category=%{y}<extra></extra>",
                  "legendgroup": "2020",
                  "marker": {
                    "color": "rgb(102, 197, 204)",
                    "pattern": {
                      "shape": ""
                    }
                  },
                  "name": "2020",
                  "offsetgroup": "2020",
                  "orientation": "h",
                  "showlegend": true,
                  "textposition": "auto",
                  "type": "bar",
                  "x": [
                    14,
                    17.25,
                    19.5,
                    16,
                    15
                  ],
                  "xaxis": "x",
                  "y": [
                    "Technical Issues",
                    "Feature Requests",
                    "Product Malfunctions",
                    "User Experience Issues",
                    "General Inquiries"
                  ],
                  "yaxis": "y"
                },
                {
                  "alignmentgroup": "True",
                  "hovertemplate": "Year=2021<br>Unresolved Tickets Per Developer=%{x}<br>Ticket Category=%{y}<extra></extra>",
                  "legendgroup": "2021",
                  "marker": {
                    "color": "rgb(246, 207, 113)",
                    "pattern": {
                      "shape": ""
                    }
                  },
                  "name": "2021",
                  "offsetgroup": "2021",
                  "orientation": "h",
                  "showlegend": true,
                  "textposition": "auto",
                  "type": "bar",
                  "x": [
                    32.5,
                    22.5,
                    23.25,
                    18,
                    22.75
                  ],
                  "xaxis": "x",
                  "y": [
                    "Technical Issues",
                    "Feature Requests",
                    "Product Malfunctions",
                    "User Experience Issues",
                    "General Inquiries"
                  ],
                  "yaxis": "y"
                },
                {
                  "alignmentgroup": "True",
                  "hovertemplate": "Year=2022<br>Unresolved Tickets Per Developer=%{x}<br>Ticket Category=%{y}<extra></extra>",
                  "legendgroup": "2022",
                  "marker": {
                    "color": "rgb(248, 156, 116)",
                    "pattern": {
                      "shape": ""
                    }
                  },
                  "name": "2022",
                  "offsetgroup": "2022",
                  "orientation": "h",
                  "showlegend": true,
                  "textposition": "auto",
                  "type": "bar",
                  "x": [
                    38,
                    25.25,
                    32.25,
                    34.25,
                    25.25
                  ],
                  "xaxis": "x",
                  "y": [
                    "Technical Issues",
                    "Feature Requests",
                    "Product Malfunctions",
                    "User Experience Issues",
                    "General Inquiries"
                  ],
                  "yaxis": "y"
                },
                {
                  "alignmentgroup": "True",
                  "hovertemplate": "Year=2023<br>Unresolved Tickets Per Developer=%{x}<br>Ticket Category=%{y}<extra></extra>",
                  "legendgroup": "2023",
                  "marker": {
                    "color": "rgb(220, 176, 242)",
                    "pattern": {
                      "shape": ""
                    }
                  },
                  "name": "2023",
                  "offsetgroup": "2023",
                  "orientation": "h",
                  "showlegend": true,
                  "textposition": "auto",
                  "type": "bar",
                  "x": [
                    42.5,
                    45.5,
                    40.25,
                    42.75,
                    48.25
                  ],
                  "xaxis": "x",
                  "y": [
                    "Technical Issues",
                    "Feature Requests",
                    "Product Malfunctions",
                    "User Experience Issues",
                    "General Inquiries"
                  ],
                  "yaxis": "y"
                },
                {
                  "alignmentgroup": "True",
                  "hovertemplate": "Year=2024<br>Unresolved Tickets Per Developer=%{x}<br>Ticket Category=%{y}<extra></extra>",
                  "legendgroup": "2024",
                  "marker": {
                    "color": "rgb(135, 197, 95)",
                    "pattern": {
                      "shape": ""
                    }
                  },
                  "name": "2024",
                  "offsetgroup": "2024",
                  "orientation": "h",
                  "showlegend": true,
                  "textposition": "auto",
                  "type": "bar",
                  "x": [
                    64.5,
                    54.5,
                    57,
                    46,
                    55
                  ],
                  "xaxis": "x",
                  "y": [
                    "Technical Issues",
                    "Feature Requests",
                    "Product Malfunctions",
                    "User Experience Issues",
                    "General Inquiries"
                  ],
                  "yaxis": "y"
                }
              ],
              "layout": {
                "bargap": 0.2,
                "barmode": "group",
                "font": {
                  "color": "#2A3E4C",
                  "family": "Helvetica",
                  "size": 14
                },
                "legend": {
                  "orientation": "h",
                  "title": {
                    "text": "Year"
                  },
                  "tracegroupgap": 0,
                  "x": 1,
                  "xanchor": "right",
                  "y": 1.02,
                  "yanchor": "bottom"
                },
                "margin": {
                  "b": 40,
                  "t": 80
                },
                "plot_bgcolor": "white",
                "showlegend": true,
                "sliders": [
                  {
                    "active": 0,
                    "currentvalue": {
                      "font": {
                        "family": "Roboto",
                        "size": 16
                      },
                      "prefix": "Year: "
                    },
                    "pad": {
                      "t": 50
                    },
                    "steps": [
                      {
                        "args": [
                          {
                            "visible": [
                              true,
                              true,
                              true,
                              true,
                              true
                            ]
                          },
                          {
                            "title": "Unresolved E-Tickets Per Developer by Category: All Years"
                          }
                        ],
                        "label": "All Years",
                        "method": "update"
                      },
                      {
                        "args": [
                          {
                            "visible": [
                              true,
                              false,
                              false,
                              false,
                              false
                            ]
                          },
                          {
                            "title": "Unresolved E-Tickets Per Developer by Category: 2020"
                          }
                        ],
                        "label": "2020",
                        "method": "update"
                      },
                      {
                        "args": [
                          {
                            "visible": [
                              false,
                              true,
                              false,
                              false,
                              false
                            ]
                          },
                          {
                            "title": "Unresolved E-Tickets Per Developer by Category: 2021"
                          }
                        ],
                        "label": "2021",
                        "method": "update"
                      },
                      {
                        "args": [
                          {
                            "visible": [
                              false,
                              false,
                              true,
                              false,
                              false
                            ]
                          },
                          {
                            "title": "Unresolved E-Tickets Per Developer by Category: 2022"
                          }
                        ],
                        "label": "2022",
                        "method": "update"
                      },
                      {
                        "args": [
                          {
                            "visible": [
                              false,
                              false,
                              false,
                              true,
                              false
                            ]
                          },
                          {
                            "title": "Unresolved E-Tickets Per Developer by Category: 2023"
                          }
                        ],
                        "label": "2023",
                        "method": "update"
                      },
                      {
                        "args": [
                          {
                            "visible": [
                              false,
                              false,
                              false,
                              false,
                              true
                            ]
                          },
                          {
                            "title": "Unresolved E-Tickets Per Developer by Category: 2024"
                          }
                        ],
                        "label": "2024",
                        "method": "update"
                      }
                    ]
                  }
                ],
                "template": {
                  "data": {
                    "bar": [
                      {
                        "error_x": {
                          "color": "#2a3f5f"
                        },
                        "error_y": {
                          "color": "#2a3f5f"
                        },
                        "marker": {
                          "line": {
                            "color": "#E5ECF6",
                            "width": 0.5
                          },
                          "pattern": {
                            "fillmode": "overlay",
                            "size": 10,
                            "solidity": 0.2
                          }
                        },
                        "type": "bar"
                      }
                    ],
                    "barpolar": [
                      {
                        "marker": {
                          "line": {
                            "color": "#E5ECF6",
                            "width": 0.5
                          },
                          "pattern": {
                            "fillmode": "overlay",
                            "size": 10,
                            "solidity": 0.2
                          }
                        },
                        "type": "barpolar"
                      }
                    ],
                    "carpet": [
                      {
                        "aaxis": {
                          "endlinecolor": "#2a3f5f",
                          "gridcolor": "white",
                          "linecolor": "white",
                          "minorgridcolor": "white",
                          "startlinecolor": "#2a3f5f"
                        },
                        "baxis": {
                          "endlinecolor": "#2a3f5f",
                          "gridcolor": "white",
                          "linecolor": "white",
                          "minorgridcolor": "white",
                          "startlinecolor": "#2a3f5f"
                        },
                        "type": "carpet"
                      }
                    ],
                    "choropleth": [
                      {
                        "colorbar": {
                          "outlinewidth": 0,
                          "ticks": ""
                        },
                        "type": "choropleth"
                      }
                    ],
                    "contour": [
                      {
                        "colorbar": {
                          "outlinewidth": 0,
                          "ticks": ""
                        },
                        "colorscale": [
                          [
                            0,
                            "#0d0887"
                          ],
                          [
                            0.1111111111111111,
                            "#46039f"
                          ],
                          [
                            0.2222222222222222,
                            "#7201a8"
                          ],
                          [
                            0.3333333333333333,
                            "#9c179e"
                          ],
                          [
                            0.4444444444444444,
                            "#bd3786"
                          ],
                          [
                            0.5555555555555556,
                            "#d8576b"
                          ],
                          [
                            0.6666666666666666,
                            "#ed7953"
                          ],
                          [
                            0.7777777777777778,
                            "#fb9f3a"
                          ],
                          [
                            0.8888888888888888,
                            "#fdca26"
                          ],
                          [
                            1,
                            "#f0f921"
                          ]
                        ],
                        "type": "contour"
                      }
                    ],
                    "contourcarpet": [
                      {
                        "colorbar": {
                          "outlinewidth": 0,
                          "ticks": ""
                        },
                        "type": "contourcarpet"
                      }
                    ],
                    "heatmap": [
                      {
                        "colorbar": {
                          "outlinewidth": 0,
                          "ticks": ""
                        },
                        "colorscale": [
                          [
                            0,
                            "#0d0887"
                          ],
                          [
                            0.1111111111111111,
                            "#46039f"
                          ],
                          [
                            0.2222222222222222,
                            "#7201a8"
                          ],
                          [
                            0.3333333333333333,
                            "#9c179e"
                          ],
                          [
                            0.4444444444444444,
                            "#bd3786"
                          ],
                          [
                            0.5555555555555556,
                            "#d8576b"
                          ],
                          [
                            0.6666666666666666,
                            "#ed7953"
                          ],
                          [
                            0.7777777777777778,
                            "#fb9f3a"
                          ],
                          [
                            0.8888888888888888,
                            "#fdca26"
                          ],
                          [
                            1,
                            "#f0f921"
                          ]
                        ],
                        "type": "heatmap"
                      }
                    ],
                    "heatmapgl": [
                      {
                        "colorbar": {
                          "outlinewidth": 0,
                          "ticks": ""
                        },
                        "colorscale": [
                          [
                            0,
                            "#0d0887"
                          ],
                          [
                            0.1111111111111111,
                            "#46039f"
                          ],
                          [
                            0.2222222222222222,
                            "#7201a8"
                          ],
                          [
                            0.3333333333333333,
                            "#9c179e"
                          ],
                          [
                            0.4444444444444444,
                            "#bd3786"
                          ],
                          [
                            0.5555555555555556,
                            "#d8576b"
                          ],
                          [
                            0.6666666666666666,
                            "#ed7953"
                          ],
                          [
                            0.7777777777777778,
                            "#fb9f3a"
                          ],
                          [
                            0.8888888888888888,
                            "#fdca26"
                          ],
                          [
                            1,
                            "#f0f921"
                          ]
                        ],
                        "type": "heatmapgl"
                      }
                    ],
                    "histogram": [
                      {
                        "marker": {
                          "pattern": {
                            "fillmode": "overlay",
                            "size": 10,
                            "solidity": 0.2
                          }
                        },
                        "type": "histogram"
                      }
                    ],
                    "histogram2d": [
                      {
                        "colorbar": {
                          "outlinewidth": 0,
                          "ticks": ""
                        },
                        "colorscale": [
                          [
                            0,
                            "#0d0887"
                          ],
                          [
                            0.1111111111111111,
                            "#46039f"
                          ],
                          [
                            0.2222222222222222,
                            "#7201a8"
                          ],
                          [
                            0.3333333333333333,
                            "#9c179e"
                          ],
                          [
                            0.4444444444444444,
                            "#bd3786"
                          ],
                          [
                            0.5555555555555556,
                            "#d8576b"
                          ],
                          [
                            0.6666666666666666,
                            "#ed7953"
                          ],
                          [
                            0.7777777777777778,
                            "#fb9f3a"
                          ],
                          [
                            0.8888888888888888,
                            "#fdca26"
                          ],
                          [
                            1,
                            "#f0f921"
                          ]
                        ],
                        "type": "histogram2d"
                      }
                    ],
                    "histogram2dcontour": [
                      {
                        "colorbar": {
                          "outlinewidth": 0,
                          "ticks": ""
                        },
                        "colorscale": [
                          [
                            0,
                            "#0d0887"
                          ],
                          [
                            0.1111111111111111,
                            "#46039f"
                          ],
                          [
                            0.2222222222222222,
                            "#7201a8"
                          ],
                          [
                            0.3333333333333333,
                            "#9c179e"
                          ],
                          [
                            0.4444444444444444,
                            "#bd3786"
                          ],
                          [
                            0.5555555555555556,
                            "#d8576b"
                          ],
                          [
                            0.6666666666666666,
                            "#ed7953"
                          ],
                          [
                            0.7777777777777778,
                            "#fb9f3a"
                          ],
                          [
                            0.8888888888888888,
                            "#fdca26"
                          ],
                          [
                            1,
                            "#f0f921"
                          ]
                        ],
                        "type": "histogram2dcontour"
                      }
                    ],
                    "mesh3d": [
                      {
                        "colorbar": {
                          "outlinewidth": 0,
                          "ticks": ""
                        },
                        "type": "mesh3d"
                      }
                    ],
                    "parcoords": [
                      {
                        "line": {
                          "colorbar": {
                            "outlinewidth": 0,
                            "ticks": ""
                          }
                        },
                        "type": "parcoords"
                      }
                    ],
                    "pie": [
                      {
                        "automargin": true,
                        "type": "pie"
                      }
                    ],
                    "scatter": [
                      {
                        "fillpattern": {
                          "fillmode": "overlay",
                          "size": 10,
                          "solidity": 0.2
                        },
                        "type": "scatter"
                      }
                    ],
                    "scatter3d": [
                      {
                        "line": {
                          "colorbar": {
                            "outlinewidth": 0,
                            "ticks": ""
                          }
                        },
                        "marker": {
                          "colorbar": {
                            "outlinewidth": 0,
                            "ticks": ""
                          }
                        },
                        "type": "scatter3d"
                      }
                    ],
                    "scattercarpet": [
                      {
                        "marker": {
                          "colorbar": {
                            "outlinewidth": 0,
                            "ticks": ""
                          }
                        },
                        "type": "scattercarpet"
                      }
                    ],
                    "scattergeo": [
                      {
                        "marker": {
                          "colorbar": {
                            "outlinewidth": 0,
                            "ticks": ""
                          }
                        },
                        "type": "scattergeo"
                      }
                    ],
                    "scattergl": [
                      {
                        "marker": {
                          "colorbar": {
                            "outlinewidth": 0,
                            "ticks": ""
                          }
                        },
                        "type": "scattergl"
                      }
                    ],
                    "scattermapbox": [
                      {
                        "marker": {
                          "colorbar": {
                            "outlinewidth": 0,
                            "ticks": ""
                          }
                        },
                        "type": "scattermapbox"
                      }
                    ],
                    "scatterpolar": [
                      {
                        "marker": {
                          "colorbar": {
                            "outlinewidth": 0,
                            "ticks": ""
                          }
                        },
                        "type": "scatterpolar"
                      }
                    ],
                    "scatterpolargl": [
                      {
                        "marker": {
                          "colorbar": {
                            "outlinewidth": 0,
                            "ticks": ""
                          }
                        },
                        "type": "scatterpolargl"
                      }
                    ],
                    "scatterternary": [
                      {
                        "marker": {
                          "colorbar": {
                            "outlinewidth": 0,
                            "ticks": ""
                          }
                        },
                        "type": "scatterternary"
                      }
                    ],
                    "surface": [
                      {
                        "colorbar": {
                          "outlinewidth": 0,
                          "ticks": ""
                        },
                        "colorscale": [
                          [
                            0,
                            "#0d0887"
                          ],
                          [
                            0.1111111111111111,
                            "#46039f"
                          ],
                          [
                            0.2222222222222222,
                            "#7201a8"
                          ],
                          [
                            0.3333333333333333,
                            "#9c179e"
                          ],
                          [
                            0.4444444444444444,
                            "#bd3786"
                          ],
                          [
                            0.5555555555555556,
                            "#d8576b"
                          ],
                          [
                            0.6666666666666666,
                            "#ed7953"
                          ],
                          [
                            0.7777777777777778,
                            "#fb9f3a"
                          ],
                          [
                            0.8888888888888888,
                            "#fdca26"
                          ],
                          [
                            1,
                            "#f0f921"
                          ]
                        ],
                        "type": "surface"
                      }
                    ],
                    "table": [
                      {
                        "cells": {
                          "fill": {
                            "color": "#EBF0F8"
                          },
                          "line": {
                            "color": "white"
                          }
                        },
                        "header": {
                          "fill": {
                            "color": "#C8D4E3"
                          },
                          "line": {
                            "color": "white"
                          }
                        },
                        "type": "table"
                      }
                    ]
                  },
                  "layout": {
                    "annotationdefaults": {
                      "arrowcolor": "#2a3f5f",
                      "arrowhead": 0,
                      "arrowwidth": 1
                    },
                    "autotypenumbers": "strict",
                    "coloraxis": {
                      "colorbar": {
                        "outlinewidth": 0,
                        "ticks": ""
                      }
                    },
                    "colorscale": {
                      "diverging": [
                        [
                          0,
                          "#8e0152"
                        ],
                        [
                          0.1,
                          "#c51b7d"
                        ],
                        [
                          0.2,
                          "#de77ae"
                        ],
                        [
                          0.3,
                          "#f1b6da"
                        ],
                        [
                          0.4,
                          "#fde0ef"
                        ],
                        [
                          0.5,
                          "#f7f7f7"
                        ],
                        [
                          0.6,
                          "#e6f5d0"
                        ],
                        [
                          0.7,
                          "#b8e186"
                        ],
                        [
                          0.8,
                          "#7fbc41"
                        ],
                        [
                          0.9,
                          "#4d9221"
                        ],
                        [
                          1,
                          "#276419"
                        ]
                      ],
                      "sequential": [
                        [
                          0,
                          "#0d0887"
                        ],
                        [
                          0.1111111111111111,
                          "#46039f"
                        ],
                        [
                          0.2222222222222222,
                          "#7201a8"
                        ],
                        [
                          0.3333333333333333,
                          "#9c179e"
                        ],
                        [
                          0.4444444444444444,
                          "#bd3786"
                        ],
                        [
                          0.5555555555555556,
                          "#d8576b"
                        ],
                        [
                          0.6666666666666666,
                          "#ed7953"
                        ],
                        [
                          0.7777777777777778,
                          "#fb9f3a"
                        ],
                        [
                          0.8888888888888888,
                          "#fdca26"
                        ],
                        [
                          1,
                          "#f0f921"
                        ]
                      ],
                      "sequentialminus": [
                        [
                          0,
                          "#0d0887"
                        ],
                        [
                          0.1111111111111111,
                          "#46039f"
                        ],
                        [
                          0.2222222222222222,
                          "#7201a8"
                        ],
                        [
                          0.3333333333333333,
                          "#9c179e"
                        ],
                        [
                          0.4444444444444444,
                          "#bd3786"
                        ],
                        [
                          0.5555555555555556,
                          "#d8576b"
                        ],
                        [
                          0.6666666666666666,
                          "#ed7953"
                        ],
                        [
                          0.7777777777777778,
                          "#fb9f3a"
                        ],
                        [
                          0.8888888888888888,
                          "#fdca26"
                        ],
                        [
                          1,
                          "#f0f921"
                        ]
                      ]
                    },
                    "colorway": [
                      "#636efa",
                      "#EF553B",
                      "#00cc96",
                      "#ab63fa",
                      "#FFA15A",
                      "#19d3f3",
                      "#FF6692",
                      "#B6E880",
                      "#FF97FF",
                      "#FECB52"
                    ],
                    "font": {
                      "color": "#2a3f5f"
                    },
                    "geo": {
                      "bgcolor": "white",
                      "lakecolor": "white",
                      "landcolor": "#E5ECF6",
                      "showlakes": true,
                      "showland": true,
                      "subunitcolor": "white"
                    },
                    "hoverlabel": {
                      "align": "left"
                    },
                    "hovermode": "closest",
                    "mapbox": {
                      "style": "light"
                    },
                    "paper_bgcolor": "white",
                    "plot_bgcolor": "#E5ECF6",
                    "polar": {
                      "angularaxis": {
                        "gridcolor": "white",
                        "linecolor": "white",
                        "ticks": ""
                      },
                      "bgcolor": "#E5ECF6",
                      "radialaxis": {
                        "gridcolor": "white",
                        "linecolor": "white",
                        "ticks": ""
                      }
                    },
                    "scene": {
                      "xaxis": {
                        "backgroundcolor": "#E5ECF6",
                        "gridcolor": "white",
                        "gridwidth": 2,
                        "linecolor": "white",
                        "showbackground": true,
                        "ticks": "",
                        "zerolinecolor": "white"
                      },
                      "yaxis": {
                        "backgroundcolor": "#E5ECF6",
                        "gridcolor": "white",
                        "gridwidth": 2,
                        "linecolor": "white",
                        "showbackground": true,
                        "ticks": "",
                        "zerolinecolor": "white"
                      },
                      "zaxis": {
                        "backgroundcolor": "#E5ECF6",
                        "gridcolor": "white",
                        "gridwidth": 2,
                        "linecolor": "white",
                        "showbackground": true,
                        "ticks": "",
                        "zerolinecolor": "white"
                      }
                    },
                    "shapedefaults": {
                      "line": {
                        "color": "#2a3f5f"
                      }
                    },
                    "ternary": {
                      "aaxis": {
                        "gridcolor": "white",
                        "linecolor": "white",
                        "ticks": ""
                      },
                      "baxis": {
                        "gridcolor": "white",
                        "linecolor": "white",
                        "ticks": ""
                      },
                      "bgcolor": "#E5ECF6",
                      "caxis": {
                        "gridcolor": "white",
                        "linecolor": "white",
                        "ticks": ""
                      }
                    },
                    "title": {
                      "x": 0.05
                    },
                    "xaxis": {
                      "automargin": true,
                      "gridcolor": "white",
                      "linecolor": "white",
                      "ticks": "",
                      "title": {
                        "standoff": 15
                      },
                      "zerolinecolor": "white",
                      "zerolinewidth": 2
                    },
                    "yaxis": {
                      "automargin": true,
                      "gridcolor": "white",
                      "linecolor": "white",
                      "ticks": "",
                      "title": {
                        "standoff": 15
                      },
                      "zerolinecolor": "white",
                      "zerolinewidth": 2
                    }
                  }
                },
                "title": {
                  "font": {
                    "color": "#2A3E4C",
                    "family": "Roboto, Helvetica, Arial",
                    "size": 24
                  },
                  "text": "Unresolved E-Tickets Per Developer by Category: 2020 to 2024",
                  "x": 0.05,
                  "y": 0.95
                },
                "xaxis": {
                  "anchor": "y",
                  "domain": [
                    0,
                    1
                  ],
                  "gridcolor": "lightgray",
                  "title": {
                    "text": "Number of Unresolved Tickets Per Developer"
                  },
                  "zeroline": true,
                  "zerolinecolor": "gray",
                  "zerolinewidth": 2
                },
                "yaxis": {
                  "anchor": "x",
                  "automargin": true,
                  "domain": [
                    0,
                    1
                  ],
                  "title": {
                    "text": ""
                  }
                }
              }
            }
          },
          "metadata": {},
          "output_type": "display_data"
        }
      ],
      "source": [
        "# Assuming you want to divide the 'Unresolved Tickets' column by 4\n",
        "combined_data['Unresolved Tickets Per Developer'] = combined_data['Unresolved Tickets'] / 4\n",
        "\n",
        "# Now, you can use this new column in your plot\n",
        "fig = px.bar(\n",
        "    combined_data,\n",
        "    x='Unresolved Tickets Per Developer',\n",
        "    y='Ticket Category',\n",
        "    color='Year',\n",
        "    barmode='group',\n",
        "    title='Unresolved E-Tickets Per Developer by Category: 2020 to 2024',\n",
        "    orientation='h',\n",
        "    color_discrete_sequence=px.colors.qualitative.Pastel  # Using pastel colors\n",
        ")\n",
        "\n",
        "# Customize layout for modern look (similar to your previous layout)\n",
        "fig.update_layout(\n",
        "    plot_bgcolor='white',\n",
        "    font=dict(family=\"Helvetica\", size=14, color=\"#2A3E4C\"),  # Modern font\n",
        "    title=dict(\n",
        "        text='Unresolved E-Tickets Per Developer by Category: 2020 to 2024',\n",
        "        x=0.05,\n",
        "        y=0.95,\n",
        "        font=dict(size=24, family=\"Roboto, Helvetica, Arial\", color=\"#2A3E4C\")  # Larger title with modern font\n",
        "    ),\n",
        "    margin=dict(t=80, b=40),  # Add more spacing between title and graph\n",
        "    bargap=0.2,  # Adding some space between the bars for clarity\n",
        "    showlegend=True,  # Show legend\n",
        "    legend=dict(\n",
        "        title_text='Year', orientation='h', yanchor='bottom', y=1.02, xanchor='right', x=1\n",
        "    ),\n",
        "    xaxis=dict(\n",
        "        title_text='Number of Unresolved Tickets Per Developer',\n",
        "        gridcolor='lightgray',\n",
        "        zeroline=True,\n",
        "        zerolinewidth=2,\n",
        "        zerolinecolor='gray'\n",
        "    ),\n",
        "    yaxis=dict(\n",
        "        title_text='',  # Remove y-axis title for a cleaner look\n",
        "        automargin=True\n",
        "    ),\n",
        "    sliders=[{\n",
        "        'steps': [\n",
        "            {'label': 'All Years', 'method': 'update', 'args': [{'visible': [True] * 5}, {'title': 'Unresolved E-Tickets Per Developer by Category: All Years'}]},\n",
        "            {'label': '2020', 'method': 'update', 'args': [{'visible': [True, False, False, False, False]}, {'title': 'Unresolved E-Tickets Per Developer by Category: 2020'}]},\n",
        "            {'label': '2021', 'method': 'update', 'args': [{'visible': [False, True, False, False, False]}, {'title': 'Unresolved E-Tickets Per Developer by Category: 2021'}]},\n",
        "            {'label': '2022', 'method': 'update', 'args': [{'visible': [False, False, True, False, False]}, {'title': 'Unresolved E-Tickets Per Developer by Category: 2022'}]},\n",
        "            {'label': '2023', 'method': 'update', 'args': [{'visible': [False, False, False, True, False]}, {'title': 'Unresolved E-Tickets Per Developer by Category: 2023'}]},\n",
        "            {'label': '2024', 'method': 'update', 'args': [{'visible': [False, False, False, False, True]}, {'title': 'Unresolved E-Tickets Per Developer by Category: 2024'}]}\n",
        "        ],\n",
        "        'active': 0,\n",
        "        'currentvalue': {'prefix': 'Year: ', 'font': {'size': 16, 'family': 'Roboto'}},\n",
        "        'pad': {'t': 50}\n",
        "    }]\n",
        ")\n",
        "\n",
        "# Display the interactive plot\n",
        "fig.show()\n"
      ]
    },
    {
      "cell_type": "markdown",
      "metadata": {},
      "source": [
        "# Trend Analysis: The response time has increased from 5 days in Q1 2020 to 16 days in Q4 2024.\n",
        "\n",
        "# Increasing Backlog: As response times increase, so does the backlog of unresolved requests, causing delays to compound over time.\n",
        "# Impact: Every delay increases the backlog, worsening the problem over time.\n"
      ]
    },
    {
      "cell_type": "code",
      "execution_count": 38,
      "metadata": {
        "colab": {
          "base_uri": "https://localhost:8080/",
          "height": 542
        },
        "id": "s4KheG0ycbBI",
        "outputId": "68d4f205-9167-4c08-c7fd-6e42bf6945a2"
      },
      "outputs": [
        {
          "data": {
            "image/png": "[encoded data removed]",
            "text/plain": [
              "<Figure size 1000x600 with 1 Axes>"
            ]
          },
          "metadata": {},
          "output_type": "display_data"
        }
      ],
      "source": [
        "import matplotlib.pyplot as plt\n",
        "import numpy as np\n",
        "import pandas as pd\n",
        "\n",
        "# Expanded data for Response Time Trends and Backlog (2020 to 2024)\n",
        "quarters = [\n",
        "    'Q1 2020', 'Q2 2020', 'Q3 2020', 'Q4 2020',\n",
        "    'Q1 2021', 'Q2 2021', 'Q3 2021', 'Q4 2021',\n",
        "    'Q1 2022', 'Q2 2022', 'Q3 2022', 'Q4 2022',\n",
        "    'Q1 2023', 'Q2 2023', 'Q3 2023', 'Q4 2023',\n",
        "    'Q1 2024', 'Q2 2024', 'Q3 2024', 'Q4 2024'\n",
        "]\n",
        "\n",
        "# Simulated response time in days (increasing over time to reflect the trend)\n",
        "response_time = np.array([\n",
        "    5, 6, 6, 7,   # 2020\n",
        "    6, 7, 7, 8,   # 2021\n",
        "    7, 8, 9, 10,  # 2022\n",
        "    11, 12, 13, 14,  # 2023\n",
        "    14, 15, 15, 16  # 2024\n",
        "])\n",
        "\n",
        "# Simulated backlog data (number of unresolved requests)\n",
        "backlog = np.array([\n",
        "    30, 40, 50, 60,   # 2020\n",
        "    60, 70, 80, 90,   # 2021\n",
        "    50, 70, 90, 120,  # 2022\n",
        "    150, 180, 210, 250,  # 2023\n",
        "    270, 300, 320, 350  # 2024\n",
        "])\n",
        "\n",
        "# Creating DataFrame\n",
        "data = {'Quarter': quarters, 'Response_Time': response_time, 'Backlog': backlog}\n",
        "df = pd.DataFrame(data)\n",
        "\n",
        "# Plotting Response Time Trends using pastel color\n",
        "plt.figure(figsize=(10, 6))\n",
        "plt.bar(df['Quarter'], df['Response_Time'], color='#B39DDB')  # Pastel purple color\n",
        "plt.title('Response Time Trends (with Increased Backlog)', fontsize=16)\n",
        "plt.xlabel('Quarter', fontsize=12)\n",
        "plt.ylabel('Average Response Time (days)', fontsize=12)\n",
        "plt.xticks(rotation=45, fontsize=10)\n",
        "plt.yticks(fontsize=10)\n",
        "plt.tight_layout()\n",
        "plt.show()"
      ]
    },
    {
      "cell_type": "markdown",
      "metadata": {},
      "source": [
        "# Lost Revenue: Revenue loss due to delays has steadily increased from Q1 2020 to Q4 2024.\n",
        "# Potential Revenue Growth: Despite this, potential revenue growth is still increasing, indicating that addressing delays will help capture more revenue.\n",
        "# Why it Matters: Each unresolved ticket represents a lost opportunity, either in terms of revenue or customer satisfaction."
      ]
    },
    {
      "cell_type": "code",
      "execution_count": 36,
      "metadata": {
        "colab": {
          "base_uri": "https://localhost:8080/",
          "height": 542
        },
        "id": "Xek3WNuRbg1f",
        "outputId": "553cb47f-0b49-468c-8bae-bf2f7b334020"
      },
      "outputs": [
        {
          "data": {
            "application/vnd.plotly.v1+json": {
              "config": {
                "plotlyServerURL": "https://plot.ly"
              },
              "data": [
                {
                  "line": {
                    "color": "#2A9D8F",
                    "width": 3
                  },
                  "marker": {
                    "size": 8
                  },
                  "mode": "lines+markers",
                  "name": "Potential Revenue",
                  "type": "scatter",
                  "x": [
                    "Q1 2020",
                    "Q2 2020",
                    "Q3 2020",
                    "Q4 2020",
                    "Q1 2021",
                    "Q2 2021",
                    "Q3 2021",
                    "Q4 2021",
                    "Q1 2022",
                    "Q2 2022",
                    "Q3 2022",
                    "Q4 2022",
                    "Q1 2023",
                    "Q2 2023",
                    "Q3 2023",
                    "Q4 2023",
                    "Q1 2024",
                    "Q2 2024",
                    "Q3 2024",
                    "Q4 2024"
                  ],
                  "y": [
                    30000,
                    40000,
                    50000,
                    55000,
                    60000,
                    70000,
                    80000,
                    85000,
                    50000,
                    60000,
                    70000,
                    85000,
                    100000,
                    120000,
                    140000,
                    160000,
                    180000,
                    200000,
                    220000,
                    250000
                  ]
                },
                {
                  "line": {
                    "color": "#E76F51",
                    "width": 3
                  },
                  "marker": {
                    "size": 8
                  },
                  "mode": "lines+markers",
                  "name": "Revenue Loss Due to Delays",
                  "type": "scatter",
                  "x": [
                    "Q1 2020",
                    "Q2 2020",
                    "Q3 2020",
                    "Q4 2020",
                    "Q1 2021",
                    "Q2 2021",
                    "Q3 2021",
                    "Q4 2021",
                    "Q1 2022",
                    "Q2 2022",
                    "Q3 2022",
                    "Q4 2022",
                    "Q1 2023",
                    "Q2 2023",
                    "Q3 2023",
                    "Q4 2023",
                    "Q1 2024",
                    "Q2 2024",
                    "Q3 2024",
                    "Q4 2024"
                  ],
                  "y": [
                    200,
                    1000,
                    3000,
                    4000,
                    5000,
                    6000,
                    7000,
                    8000,
                    100,
                    1000,
                    6000,
                    8000,
                    16000,
                    20000,
                    50000,
                    80000,
                    90000,
                    100000,
                    120000,
                    130000
                  ]
                }
              ],
              "layout": {
                "font": {
                  "color": "#2A3E4C",
                  "family": "Arial, Helvetica, sans-serif",
                  "size": 14
                },
                "margin": {
                  "b": 40,
                  "t": 80
                },
                "plot_bgcolor": "white",
                "showlegend": true,
                "template": {
                  "data": {
                    "bar": [
                      {
                        "error_x": {
                          "color": "#2a3f5f"
                        },
                        "error_y": {
                          "color": "#2a3f5f"
                        },
                        "marker": {
                          "line": {
                            "color": "#E5ECF6",
                            "width": 0.5
                          },
                          "pattern": {
                            "fillmode": "overlay",
                            "size": 10,
                            "solidity": 0.2
                          }
                        },
                        "type": "bar"
                      }
                    ],
                    "barpolar": [
                      {
                        "marker": {
                          "line": {
                            "color": "#E5ECF6",
                            "width": 0.5
                          },
                          "pattern": {
                            "fillmode": "overlay",
                            "size": 10,
                            "solidity": 0.2
                          }
                        },
                        "type": "barpolar"
                      }
                    ],
                    "carpet": [
                      {
                        "aaxis": {
                          "endlinecolor": "#2a3f5f",
                          "gridcolor": "white",
                          "linecolor": "white",
                          "minorgridcolor": "white",
                          "startlinecolor": "#2a3f5f"
                        },
                        "baxis": {
                          "endlinecolor": "#2a3f5f",
                          "gridcolor": "white",
                          "linecolor": "white",
                          "minorgridcolor": "white",
                          "startlinecolor": "#2a3f5f"
                        },
                        "type": "carpet"
                      }
                    ],
                    "choropleth": [
                      {
                        "colorbar": {
                          "outlinewidth": 0,
                          "ticks": ""
                        },
                        "type": "choropleth"
                      }
                    ],
                    "contour": [
                      {
                        "colorbar": {
                          "outlinewidth": 0,
                          "ticks": ""
                        },
                        "colorscale": [
                          [
                            0,
                            "#0d0887"
                          ],
                          [
                            0.1111111111111111,
                            "#46039f"
                          ],
                          [
                            0.2222222222222222,
                            "#7201a8"
                          ],
                          [
                            0.3333333333333333,
                            "#9c179e"
                          ],
                          [
                            0.4444444444444444,
                            "#bd3786"
                          ],
                          [
                            0.5555555555555556,
                            "#d8576b"
                          ],
                          [
                            0.6666666666666666,
                            "#ed7953"
                          ],
                          [
                            0.7777777777777778,
                            "#fb9f3a"
                          ],
                          [
                            0.8888888888888888,
                            "#fdca26"
                          ],
                          [
                            1,
                            "#f0f921"
                          ]
                        ],
                        "type": "contour"
                      }
                    ],
                    "contourcarpet": [
                      {
                        "colorbar": {
                          "outlinewidth": 0,
                          "ticks": ""
                        },
                        "type": "contourcarpet"
                      }
                    ],
                    "heatmap": [
                      {
                        "colorbar": {
                          "outlinewidth": 0,
                          "ticks": ""
                        },
                        "colorscale": [
                          [
                            0,
                            "#0d0887"
                          ],
                          [
                            0.1111111111111111,
                            "#46039f"
                          ],
                          [
                            0.2222222222222222,
                            "#7201a8"
                          ],
                          [
                            0.3333333333333333,
                            "#9c179e"
                          ],
                          [
                            0.4444444444444444,
                            "#bd3786"
                          ],
                          [
                            0.5555555555555556,
                            "#d8576b"
                          ],
                          [
                            0.6666666666666666,
                            "#ed7953"
                          ],
                          [
                            0.7777777777777778,
                            "#fb9f3a"
                          ],
                          [
                            0.8888888888888888,
                            "#fdca26"
                          ],
                          [
                            1,
                            "#f0f921"
                          ]
                        ],
                        "type": "heatmap"
                      }
                    ],
                    "heatmapgl": [
                      {
                        "colorbar": {
                          "outlinewidth": 0,
                          "ticks": ""
                        },
                        "colorscale": [
                          [
                            0,
                            "#0d0887"
                          ],
                          [
                            0.1111111111111111,
                            "#46039f"
                          ],
                          [
                            0.2222222222222222,
                            "#7201a8"
                          ],
                          [
                            0.3333333333333333,
                            "#9c179e"
                          ],
                          [
                            0.4444444444444444,
                            "#bd3786"
                          ],
                          [
                            0.5555555555555556,
                            "#d8576b"
                          ],
                          [
                            0.6666666666666666,
                            "#ed7953"
                          ],
                          [
                            0.7777777777777778,
                            "#fb9f3a"
                          ],
                          [
                            0.8888888888888888,
                            "#fdca26"
                          ],
                          [
                            1,
                            "#f0f921"
                          ]
                        ],
                        "type": "heatmapgl"
                      }
                    ],
                    "histogram": [
                      {
                        "marker": {
                          "pattern": {
                            "fillmode": "overlay",
                            "size": 10,
                            "solidity": 0.2
                          }
                        },
                        "type": "histogram"
                      }
                    ],
                    "histogram2d": [
                      {
                        "colorbar": {
                          "outlinewidth": 0,
                          "ticks": ""
                        },
                        "colorscale": [
                          [
                            0,
                            "#0d0887"
                          ],
                          [
                            0.1111111111111111,
                            "#46039f"
                          ],
                          [
                            0.2222222222222222,
                            "#7201a8"
                          ],
                          [
                            0.3333333333333333,
                            "#9c179e"
                          ],
                          [
                            0.4444444444444444,
                            "#bd3786"
                          ],
                          [
                            0.5555555555555556,
                            "#d8576b"
                          ],
                          [
                            0.6666666666666666,
                            "#ed7953"
                          ],
                          [
                            0.7777777777777778,
                            "#fb9f3a"
                          ],
                          [
                            0.8888888888888888,
                            "#fdca26"
                          ],
                          [
                            1,
                            "#f0f921"
                          ]
                        ],
                        "type": "histogram2d"
                      }
                    ],
                    "histogram2dcontour": [
                      {
                        "colorbar": {
                          "outlinewidth": 0,
                          "ticks": ""
                        },
                        "colorscale": [
                          [
                            0,
                            "#0d0887"
                          ],
                          [
                            0.1111111111111111,
                            "#46039f"
                          ],
                          [
                            0.2222222222222222,
                            "#7201a8"
                          ],
                          [
                            0.3333333333333333,
                            "#9c179e"
                          ],
                          [
                            0.4444444444444444,
                            "#bd3786"
                          ],
                          [
                            0.5555555555555556,
                            "#d8576b"
                          ],
                          [
                            0.6666666666666666,
                            "#ed7953"
                          ],
                          [
                            0.7777777777777778,
                            "#fb9f3a"
                          ],
                          [
                            0.8888888888888888,
                            "#fdca26"
                          ],
                          [
                            1,
                            "#f0f921"
                          ]
                        ],
                        "type": "histogram2dcontour"
                      }
                    ],
                    "mesh3d": [
                      {
                        "colorbar": {
                          "outlinewidth": 0,
                          "ticks": ""
                        },
                        "type": "mesh3d"
                      }
                    ],
                    "parcoords": [
                      {
                        "line": {
                          "colorbar": {
                            "outlinewidth": 0,
                            "ticks": ""
                          }
                        },
                        "type": "parcoords"
                      }
                    ],
                    "pie": [
                      {
                        "automargin": true,
                        "type": "pie"
                      }
                    ],
                    "scatter": [
                      {
                        "fillpattern": {
                          "fillmode": "overlay",
                          "size": 10,
                          "solidity": 0.2
                        },
                        "type": "scatter"
                      }
                    ],
                    "scatter3d": [
                      {
                        "line": {
                          "colorbar": {
                            "outlinewidth": 0,
                            "ticks": ""
                          }
                        },
                        "marker": {
                          "colorbar": {
                            "outlinewidth": 0,
                            "ticks": ""
                          }
                        },
                        "type": "scatter3d"
                      }
                    ],
                    "scattercarpet": [
                      {
                        "marker": {
                          "colorbar": {
                            "outlinewidth": 0,
                            "ticks": ""
                          }
                        },
                        "type": "scattercarpet"
                      }
                    ],
                    "scattergeo": [
                      {
                        "marker": {
                          "colorbar": {
                            "outlinewidth": 0,
                            "ticks": ""
                          }
                        },
                        "type": "scattergeo"
                      }
                    ],
                    "scattergl": [
                      {
                        "marker": {
                          "colorbar": {
                            "outlinewidth": 0,
                            "ticks": ""
                          }
                        },
                        "type": "scattergl"
                      }
                    ],
                    "scattermapbox": [
                      {
                        "marker": {
                          "colorbar": {
                            "outlinewidth": 0,
                            "ticks": ""
                          }
                        },
                        "type": "scattermapbox"
                      }
                    ],
                    "scatterpolar": [
                      {
                        "marker": {
                          "colorbar": {
                            "outlinewidth": 0,
                            "ticks": ""
                          }
                        },
                        "type": "scatterpolar"
                      }
                    ],
                    "scatterpolargl": [
                      {
                        "marker": {
                          "colorbar": {
                            "outlinewidth": 0,
                            "ticks": ""
                          }
                        },
                        "type": "scatterpolargl"
                      }
                    ],
                    "scatterternary": [
                      {
                        "marker": {
                          "colorbar": {
                            "outlinewidth": 0,
                            "ticks": ""
                          }
                        },
                        "type": "scatterternary"
                      }
                    ],
                    "surface": [
                      {
                        "colorbar": {
                          "outlinewidth": 0,
                          "ticks": ""
                        },
                        "colorscale": [
                          [
                            0,
                            "#0d0887"
                          ],
                          [
                            0.1111111111111111,
                            "#46039f"
                          ],
                          [
                            0.2222222222222222,
                            "#7201a8"
                          ],
                          [
                            0.3333333333333333,
                            "#9c179e"
                          ],
                          [
                            0.4444444444444444,
                            "#bd3786"
                          ],
                          [
                            0.5555555555555556,
                            "#d8576b"
                          ],
                          [
                            0.6666666666666666,
                            "#ed7953"
                          ],
                          [
                            0.7777777777777778,
                            "#fb9f3a"
                          ],
                          [
                            0.8888888888888888,
                            "#fdca26"
                          ],
                          [
                            1,
                            "#f0f921"
                          ]
                        ],
                        "type": "surface"
                      }
                    ],
                    "table": [
                      {
                        "cells": {
                          "fill": {
                            "color": "#EBF0F8"
                          },
                          "line": {
                            "color": "white"
                          }
                        },
                        "header": {
                          "fill": {
                            "color": "#C8D4E3"
                          },
                          "line": {
                            "color": "white"
                          }
                        },
                        "type": "table"
                      }
                    ]
                  },
                  "layout": {
                    "annotationdefaults": {
                      "arrowcolor": "#2a3f5f",
                      "arrowhead": 0,
                      "arrowwidth": 1
                    },
                    "autotypenumbers": "strict",
                    "coloraxis": {
                      "colorbar": {
                        "outlinewidth": 0,
                        "ticks": ""
                      }
                    },
                    "colorscale": {
                      "diverging": [
                        [
                          0,
                          "#8e0152"
                        ],
                        [
                          0.1,
                          "#c51b7d"
                        ],
                        [
                          0.2,
                          "#de77ae"
                        ],
                        [
                          0.3,
                          "#f1b6da"
                        ],
                        [
                          0.4,
                          "#fde0ef"
                        ],
                        [
                          0.5,
                          "#f7f7f7"
                        ],
                        [
                          0.6,
                          "#e6f5d0"
                        ],
                        [
                          0.7,
                          "#b8e186"
                        ],
                        [
                          0.8,
                          "#7fbc41"
                        ],
                        [
                          0.9,
                          "#4d9221"
                        ],
                        [
                          1,
                          "#276419"
                        ]
                      ],
                      "sequential": [
                        [
                          0,
                          "#0d0887"
                        ],
                        [
                          0.1111111111111111,
                          "#46039f"
                        ],
                        [
                          0.2222222222222222,
                          "#7201a8"
                        ],
                        [
                          0.3333333333333333,
                          "#9c179e"
                        ],
                        [
                          0.4444444444444444,
                          "#bd3786"
                        ],
                        [
                          0.5555555555555556,
                          "#d8576b"
                        ],
                        [
                          0.6666666666666666,
                          "#ed7953"
                        ],
                        [
                          0.7777777777777778,
                          "#fb9f3a"
                        ],
                        [
                          0.8888888888888888,
                          "#fdca26"
                        ],
                        [
                          1,
                          "#f0f921"
                        ]
                      ],
                      "sequentialminus": [
                        [
                          0,
                          "#0d0887"
                        ],
                        [
                          0.1111111111111111,
                          "#46039f"
                        ],
                        [
                          0.2222222222222222,
                          "#7201a8"
                        ],
                        [
                          0.3333333333333333,
                          "#9c179e"
                        ],
                        [
                          0.4444444444444444,
                          "#bd3786"
                        ],
                        [
                          0.5555555555555556,
                          "#d8576b"
                        ],
                        [
                          0.6666666666666666,
                          "#ed7953"
                        ],
                        [
                          0.7777777777777778,
                          "#fb9f3a"
                        ],
                        [
                          0.8888888888888888,
                          "#fdca26"
                        ],
                        [
                          1,
                          "#f0f921"
                        ]
                      ]
                    },
                    "colorway": [
                      "#636efa",
                      "#EF553B",
                      "#00cc96",
                      "#ab63fa",
                      "#FFA15A",
                      "#19d3f3",
                      "#FF6692",
                      "#B6E880",
                      "#FF97FF",
                      "#FECB52"
                    ],
                    "font": {
                      "color": "#2a3f5f"
                    },
                    "geo": {
                      "bgcolor": "white",
                      "lakecolor": "white",
                      "landcolor": "#E5ECF6",
                      "showlakes": true,
                      "showland": true,
                      "subunitcolor": "white"
                    },
                    "hoverlabel": {
                      "align": "left"
                    },
                    "hovermode": "closest",
                    "mapbox": {
                      "style": "light"
                    },
                    "paper_bgcolor": "white",
                    "plot_bgcolor": "#E5ECF6",
                    "polar": {
                      "angularaxis": {
                        "gridcolor": "white",
                        "linecolor": "white",
                        "ticks": ""
                      },
                      "bgcolor": "#E5ECF6",
                      "radialaxis": {
                        "gridcolor": "white",
                        "linecolor": "white",
                        "ticks": ""
                      }
                    },
                    "scene": {
                      "xaxis": {
                        "backgroundcolor": "#E5ECF6",
                        "gridcolor": "white",
                        "gridwidth": 2,
                        "linecolor": "white",
                        "showbackground": true,
                        "ticks": "",
                        "zerolinecolor": "white"
                      },
                      "yaxis": {
                        "backgroundcolor": "#E5ECF6",
                        "gridcolor": "white",
                        "gridwidth": 2,
                        "linecolor": "white",
                        "showbackground": true,
                        "ticks": "",
                        "zerolinecolor": "white"
                      },
                      "zaxis": {
                        "backgroundcolor": "#E5ECF6",
                        "gridcolor": "white",
                        "gridwidth": 2,
                        "linecolor": "white",
                        "showbackground": true,
                        "ticks": "",
                        "zerolinecolor": "white"
                      }
                    },
                    "shapedefaults": {
                      "line": {
                        "color": "#2a3f5f"
                      }
                    },
                    "ternary": {
                      "aaxis": {
                        "gridcolor": "white",
                        "linecolor": "white",
                        "ticks": ""
                      },
                      "baxis": {
                        "gridcolor": "white",
                        "linecolor": "white",
                        "ticks": ""
                      },
                      "bgcolor": "#E5ECF6",
                      "caxis": {
                        "gridcolor": "white",
                        "linecolor": "white",
                        "ticks": ""
                      }
                    },
                    "title": {
                      "x": 0.05
                    },
                    "xaxis": {
                      "automargin": true,
                      "gridcolor": "white",
                      "linecolor": "white",
                      "ticks": "",
                      "title": {
                        "standoff": 15
                      },
                      "zerolinecolor": "white",
                      "zerolinewidth": 2
                    },
                    "yaxis": {
                      "automargin": true,
                      "gridcolor": "white",
                      "linecolor": "white",
                      "ticks": "",
                      "title": {
                        "standoff": 15
                      },
                      "zerolinecolor": "white",
                      "zerolinewidth": 2
                    }
                  }
                },
                "title": {
                  "font": {
                    "color": "#2A3E4C",
                    "family": "Roboto, Helvetica, Arial",
                    "size": 24
                  },
                  "text": "Potential Revenue vs. Revenue Loss Due to Delays (2020 - 2024)",
                  "x": 0.05,
                  "y": 0.95
                },
                "xaxis": {
                  "showgrid": false,
                  "tickfont": {
                    "color": "#2A3E4C",
                    "family": "Arial, Helvetica, sans-serif",
                    "size": 14
                  },
                  "title": {
                    "font": {
                      "color": "#2A3E4C",
                      "family": "Arial, Helvetica, sans-serif",
                      "size": 16
                    },
                    "text": "Quarter"
                  }
                },
                "yaxis": {
                  "gridcolor": "lightgray",
                  "showgrid": true,
                  "tickfont": {
                    "color": "#2A3E4C",
                    "family": "Arial, Helvetica, sans-serif",
                    "size": 14
                  },
                  "ticksuffix": "  ",
                  "title": {
                    "font": {
                      "color": "#2A3E4C",
                      "family": "Arial, Helvetica, sans-serif",
                      "size": 16
                    },
                    "text": "Revenue ($)"
                  },
                  "zeroline": true,
                  "zerolinecolor": "gray",
                  "zerolinewidth": 2
                }
              }
            }
          },
          "metadata": {},
          "output_type": "display_data"
        }
      ],
      "source": [
        "import plotly.graph_objs as go\n",
        "import numpy as np\n",
        "import pandas as pd\n",
        "\n",
        "# Data for 5 years (2020 to 2024) and 4 quarters each year\n",
        "quarters = [\n",
        "    'Q1 2020', 'Q2 2020', 'Q3 2020', 'Q4 2020',\n",
        "    'Q1 2021', 'Q2 2021', 'Q3 2021', 'Q4 2021',\n",
        "    'Q1 2022', 'Q2 2022', 'Q3 2022', 'Q4 2022',\n",
        "    'Q1 2023', 'Q2 2023', 'Q3 2023', 'Q4 2023',\n",
        "    'Q1 2024', 'Q2 2024', 'Q3 2024', 'Q4 2024'\n",
        "]\n",
        "\n",
        "# Simulated potential revenue data for each quarter (in dollars)\n",
        "potential_revenue = np.array([\n",
        "    30000, 40000, 50000, 55000,   # 2020\n",
        "    60000, 70000, 80000, 85000,   # 2021\n",
        "    50000, 60000, 70000, 85000,   # 2022\n",
        "    100000, 120000, 140000, 160000,  # 2023\n",
        "    180000, 200000, 220000, 250000  # 2024\n",
        "])\n",
        "\n",
        "# Simulated revenue loss due to delays for each quarter (in dollars)\n",
        "revenue_loss = np.array([\n",
        "    200, 1000, 3000, 4000,   # 2020\n",
        "    5000, 6000, 7000, 8000,   # 2021\n",
        "    100, 1000, 6000, 8000,   # 2022\n",
        "    16000, 20000, 50000, 80000,  # 2023\n",
        "    90000, 100000, 120000, 130000  # 2024\n",
        "])\n",
        "\n",
        "# Creating DataFrame\n",
        "data = {'Quarter': quarters, 'Potential_Revenue': potential_revenue, 'Revenue_Loss_Due_to_Delays': revenue_loss}\n",
        "df = pd.DataFrame(data)\n",
        "\n",
        "# Creating the line chart using Plotly\n",
        "fig = go.Figure()\n",
        "\n",
        "# Adding the Potential Revenue line\n",
        "fig.add_trace(go.Scatter(\n",
        "    x=df['Quarter'],\n",
        "    y=df['Potential_Revenue'],\n",
        "    mode='lines+markers',\n",
        "    name='Potential Revenue',\n",
        "    line=dict(color='#2A9D8F', width=3),  # Using pastel green\n",
        "    marker=dict(size=8)\n",
        "))\n",
        "\n",
        "# Adding the Revenue Loss line\n",
        "fig.add_trace(go.Scatter(\n",
        "    x=df['Quarter'],\n",
        "    y=df['Revenue_Loss_Due_to_Delays'],\n",
        "    mode='lines+markers',\n",
        "    name='Revenue Loss Due to Delays',\n",
        "    line=dict(color='#E76F51', width=3),  # Using pastel red-orange\n",
        "    marker=dict(size=8)\n",
        "))\n",
        "\n",
        "# Updating layout for modern look\n",
        "fig.update_layout(\n",
        "    title=dict(\n",
        "        text=\"Potential Revenue vs. Revenue Loss Due to Delays (2020 - 2024)\",\n",
        "        x=0.05,\n",
        "        y=0.95,\n",
        "        font=dict(size=24, family=\"Roboto, Helvetica, Arial\", color=\"#2A3E4C\")\n",
        "    ),\n",
        "    xaxis=dict(\n",
        "        title=\"Quarter\",\n",
        "        showgrid=False,\n",
        "        titlefont=dict(family=\"Arial, Helvetica, sans-serif\", size=16, color=\"#2A3E4C\"),\n",
        "        tickfont=dict(family=\"Arial, Helvetica, sans-serif\", size=14, color=\"#2A3E4C\")\n",
        "    ),\n",
        "    yaxis=dict(\n",
        "        title=\"Revenue ($)\",\n",
        "        showgrid=True,\n",
        "        gridcolor='lightgray',  # Light gridlines for clarity\n",
        "        zeroline=True,\n",
        "        zerolinewidth=2,\n",
        "        zerolinecolor='gray',\n",
        "        titlefont=dict(family=\"Arial, Helvetica, sans-serif\", size=16, color=\"#2A3E4C\"),\n",
        "        tickfont=dict(family=\"Arial, Helvetica, sans-serif\", size=14, color=\"#2A3E4C\"),\n",
        "        ticksuffix=\"  \"\n",
        "    ),\n",
        "    plot_bgcolor='white',\n",
        "    margin=dict(t=80, b=40),\n",
        "    showlegend=True,\n",
        "    font=dict(family=\"Arial, Helvetica, sans-serif\", size=14, color=\"#2A3E4C\")\n",
        ")\n",
        "\n",
        "# Displaying the plot\n",
        "fig.show()"
      ]
    },
    {
      "cell_type": "markdown",
      "metadata": {
        "id": "lfW-zpS0kQY4"
      },
      "source": [
        "Conclusion:\n",
        "\n",
        "Expanding the developer team would directly reduce the backlog and response times, improving customer satisfaction and retention. The financial impact of these improvements could prevent further revenue loss and unlock additional revenue opportunities from new features.\n",
        "\n",
        "Hiring more developers will allow the company to scale more effectively and capitalize on the rapidly growing customer base, positioning the company for long-term success.\n",
        "\n",
        "General Inquiries should be handled by AI agents, that can turn around the issues or close them if they dont fit into any of the other criteria, to prioritize the work of the developers."
      ]
    },
    {
      "cell_type": "code",
      "execution_count": 39,
      "metadata": {
        "id": "yc4akMYBm7yi"
      },
      "outputs": [
        {
          "data": {
            "application/vnd.plotly.v1+json": {
              "config": {
                "plotlyServerURL": "https://plot.ly"
              },
              "data": [
                {
                  "alignmentgroup": "True",
                  "hovertemplate": "Year=2020<br>Unresolved Tickets Per Developer=%{x}<br>Ticket Category=%{y}<extra></extra>",
                  "legendgroup": "2020",
                  "marker": {
                    "color": "rgb(102, 197, 204)",
                    "pattern": {
                      "shape": ""
                    }
                  },
                  "name": "2020",
                  "offsetgroup": "2020",
                  "orientation": "h",
                  "showlegend": true,
                  "textposition": "auto",
                  "type": "bar",
                  "x": [
                    15.25,
                    18,
                    17.25,
                    18.5,
                    13
                  ],
                  "xaxis": "x",
                  "y": [
                    "Technical Issues",
                    "Feature Requests",
                    "Product Malfunctions",
                    "User Experience Issues",
                    "General Inquiries"
                  ],
                  "yaxis": "y"
                },
                {
                  "alignmentgroup": "True",
                  "hovertemplate": "Year=2021<br>Unresolved Tickets Per Developer=%{x}<br>Ticket Category=%{y}<extra></extra>",
                  "legendgroup": "2021",
                  "marker": {
                    "color": "rgb(246, 207, 113)",
                    "pattern": {
                      "shape": ""
                    }
                  },
                  "name": "2021",
                  "offsetgroup": "2021",
                  "orientation": "h",
                  "showlegend": true,
                  "textposition": "auto",
                  "type": "bar",
                  "x": [
                    20,
                    12.666666666666666,
                    15,
                    18,
                    14.5
                  ],
                  "xaxis": "x",
                  "y": [
                    "Technical Issues",
                    "Feature Requests",
                    "Product Malfunctions",
                    "User Experience Issues",
                    "General Inquiries"
                  ],
                  "yaxis": "y"
                },
                {
                  "alignmentgroup": "True",
                  "hovertemplate": "Year=2022<br>Unresolved Tickets Per Developer=%{x}<br>Ticket Category=%{y}<extra></extra>",
                  "legendgroup": "2022",
                  "marker": {
                    "color": "rgb(248, 156, 116)",
                    "pattern": {
                      "shape": ""
                    }
                  },
                  "name": "2022",
                  "offsetgroup": "2022",
                  "orientation": "h",
                  "showlegend": true,
                  "textposition": "auto",
                  "type": "bar",
                  "x": [
                    12.875,
                    19.875,
                    14.125,
                    13.5,
                    19
                  ],
                  "xaxis": "x",
                  "y": [
                    "Technical Issues",
                    "Feature Requests",
                    "Product Malfunctions",
                    "User Experience Issues",
                    "General Inquiries"
                  ],
                  "yaxis": "y"
                },
                {
                  "alignmentgroup": "True",
                  "hovertemplate": "Year=2023<br>Unresolved Tickets Per Developer=%{x}<br>Ticket Category=%{y}<extra></extra>",
                  "legendgroup": "2023",
                  "marker": {
                    "color": "rgb(220, 176, 242)",
                    "pattern": {
                      "shape": ""
                    }
                  },
                  "name": "2023",
                  "offsetgroup": "2023",
                  "orientation": "h",
                  "showlegend": true,
                  "textposition": "auto",
                  "type": "bar",
                  "x": [
                    15.1,
                    16.9,
                    17.7,
                    19.6,
                    15.6
                  ],
                  "xaxis": "x",
                  "y": [
                    "Technical Issues",
                    "Feature Requests",
                    "Product Malfunctions",
                    "User Experience Issues",
                    "General Inquiries"
                  ],
                  "yaxis": "y"
                },
                {
                  "alignmentgroup": "True",
                  "hovertemplate": "Year=2024<br>Unresolved Tickets Per Developer=%{x}<br>Ticket Category=%{y}<extra></extra>",
                  "legendgroup": "2024",
                  "marker": {
                    "color": "rgb(135, 197, 95)",
                    "pattern": {
                      "shape": ""
                    }
                  },
                  "name": "2024",
                  "offsetgroup": "2024",
                  "orientation": "h",
                  "showlegend": true,
                  "textposition": "auto",
                  "type": "bar",
                  "x": [
                    11.8,
                    13.6,
                    16.666666666666668,
                    14.6,
                    18.2
                  ],
                  "xaxis": "x",
                  "y": [
                    "Technical Issues",
                    "Feature Requests",
                    "Product Malfunctions",
                    "User Experience Issues",
                    "General Inquiries"
                  ],
                  "yaxis": "y"
                }
              ],
              "layout": {
                "bargap": 0.2,
                "barmode": "group",
                "font": {
                  "color": "#2A3E4C",
                  "family": "Helvetica",
                  "size": 14
                },
                "legend": {
                  "orientation": "h",
                  "title": {
                    "text": "Year"
                  },
                  "tracegroupgap": 0,
                  "x": 1,
                  "xanchor": "right",
                  "y": 1.02,
                  "yanchor": "bottom"
                },
                "margin": {
                  "b": 40,
                  "t": 80
                },
                "plot_bgcolor": "white",
                "showlegend": true,
                "sliders": [
                  {
                    "active": 0,
                    "currentvalue": {
                      "font": {
                        "family": "Roboto",
                        "size": 16
                      },
                      "prefix": "Year: "
                    },
                    "pad": {
                      "t": 50
                    },
                    "steps": [
                      {
                        "args": [
                          {
                            "visible": [
                              true,
                              true,
                              true,
                              true,
                              true
                            ]
                          },
                          {
                            "title": "Unresolved E-Tickets Per Developer by Category: All Years"
                          }
                        ],
                        "label": "All Years",
                        "method": "update"
                      },
                      {
                        "args": [
                          {
                            "visible": [
                              true,
                              false,
                              false,
                              false,
                              false
                            ]
                          },
                          {
                            "title": "Unresolved E-Tickets Per Developer by Category: 2020"
                          }
                        ],
                        "label": "2020",
                        "method": "update"
                      },
                      {
                        "args": [
                          {
                            "visible": [
                              false,
                              true,
                              false,
                              false,
                              false
                            ]
                          },
                          {
                            "title": "Unresolved E-Tickets Per Developer by Category: 2021"
                          }
                        ],
                        "label": "2021",
                        "method": "update"
                      },
                      {
                        "args": [
                          {
                            "visible": [
                              false,
                              false,
                              true,
                              false,
                              false
                            ]
                          },
                          {
                            "title": "Unresolved E-Tickets Per Developer by Category: 2022"
                          }
                        ],
                        "label": "2022",
                        "method": "update"
                      },
                      {
                        "args": [
                          {
                            "visible": [
                              false,
                              false,
                              false,
                              true,
                              false
                            ]
                          },
                          {
                            "title": "Unresolved E-Tickets Per Developer by Category: 2023"
                          }
                        ],
                        "label": "2023",
                        "method": "update"
                      },
                      {
                        "args": [
                          {
                            "visible": [
                              false,
                              false,
                              false,
                              false,
                              true
                            ]
                          },
                          {
                            "title": "Unresolved E-Tickets Per Developer by Category: 2024"
                          }
                        ],
                        "label": "2024",
                        "method": "update"
                      }
                    ]
                  }
                ],
                "template": {
                  "data": {
                    "bar": [
                      {
                        "error_x": {
                          "color": "#2a3f5f"
                        },
                        "error_y": {
                          "color": "#2a3f5f"
                        },
                        "marker": {
                          "line": {
                            "color": "#E5ECF6",
                            "width": 0.5
                          },
                          "pattern": {
                            "fillmode": "overlay",
                            "size": 10,
                            "solidity": 0.2
                          }
                        },
                        "type": "bar"
                      }
                    ],
                    "barpolar": [
                      {
                        "marker": {
                          "line": {
                            "color": "#E5ECF6",
                            "width": 0.5
                          },
                          "pattern": {
                            "fillmode": "overlay",
                            "size": 10,
                            "solidity": 0.2
                          }
                        },
                        "type": "barpolar"
                      }
                    ],
                    "carpet": [
                      {
                        "aaxis": {
                          "endlinecolor": "#2a3f5f",
                          "gridcolor": "white",
                          "linecolor": "white",
                          "minorgridcolor": "white",
                          "startlinecolor": "#2a3f5f"
                        },
                        "baxis": {
                          "endlinecolor": "#2a3f5f",
                          "gridcolor": "white",
                          "linecolor": "white",
                          "minorgridcolor": "white",
                          "startlinecolor": "#2a3f5f"
                        },
                        "type": "carpet"
                      }
                    ],
                    "choropleth": [
                      {
                        "colorbar": {
                          "outlinewidth": 0,
                          "ticks": ""
                        },
                        "type": "choropleth"
                      }
                    ],
                    "contour": [
                      {
                        "colorbar": {
                          "outlinewidth": 0,
                          "ticks": ""
                        },
                        "colorscale": [
                          [
                            0,
                            "#0d0887"
                          ],
                          [
                            0.1111111111111111,
                            "#46039f"
                          ],
                          [
                            0.2222222222222222,
                            "#7201a8"
                          ],
                          [
                            0.3333333333333333,
                            "#9c179e"
                          ],
                          [
                            0.4444444444444444,
                            "#bd3786"
                          ],
                          [
                            0.5555555555555556,
                            "#d8576b"
                          ],
                          [
                            0.6666666666666666,
                            "#ed7953"
                          ],
                          [
                            0.7777777777777778,
                            "#fb9f3a"
                          ],
                          [
                            0.8888888888888888,
                            "#fdca26"
                          ],
                          [
                            1,
                            "#f0f921"
                          ]
                        ],
                        "type": "contour"
                      }
                    ],
                    "contourcarpet": [
                      {
                        "colorbar": {
                          "outlinewidth": 0,
                          "ticks": ""
                        },
                        "type": "contourcarpet"
                      }
                    ],
                    "heatmap": [
                      {
                        "colorbar": {
                          "outlinewidth": 0,
                          "ticks": ""
                        },
                        "colorscale": [
                          [
                            0,
                            "#0d0887"
                          ],
                          [
                            0.1111111111111111,
                            "#46039f"
                          ],
                          [
                            0.2222222222222222,
                            "#7201a8"
                          ],
                          [
                            0.3333333333333333,
                            "#9c179e"
                          ],
                          [
                            0.4444444444444444,
                            "#bd3786"
                          ],
                          [
                            0.5555555555555556,
                            "#d8576b"
                          ],
                          [
                            0.6666666666666666,
                            "#ed7953"
                          ],
                          [
                            0.7777777777777778,
                            "#fb9f3a"
                          ],
                          [
                            0.8888888888888888,
                            "#fdca26"
                          ],
                          [
                            1,
                            "#f0f921"
                          ]
                        ],
                        "type": "heatmap"
                      }
                    ],
                    "heatmapgl": [
                      {
                        "colorbar": {
                          "outlinewidth": 0,
                          "ticks": ""
                        },
                        "colorscale": [
                          [
                            0,
                            "#0d0887"
                          ],
                          [
                            0.1111111111111111,
                            "#46039f"
                          ],
                          [
                            0.2222222222222222,
                            "#7201a8"
                          ],
                          [
                            0.3333333333333333,
                            "#9c179e"
                          ],
                          [
                            0.4444444444444444,
                            "#bd3786"
                          ],
                          [
                            0.5555555555555556,
                            "#d8576b"
                          ],
                          [
                            0.6666666666666666,
                            "#ed7953"
                          ],
                          [
                            0.7777777777777778,
                            "#fb9f3a"
                          ],
                          [
                            0.8888888888888888,
                            "#fdca26"
                          ],
                          [
                            1,
                            "#f0f921"
                          ]
                        ],
                        "type": "heatmapgl"
                      }
                    ],
                    "histogram": [
                      {
                        "marker": {
                          "pattern": {
                            "fillmode": "overlay",
                            "size": 10,
                            "solidity": 0.2
                          }
                        },
                        "type": "histogram"
                      }
                    ],
                    "histogram2d": [
                      {
                        "colorbar": {
                          "outlinewidth": 0,
                          "ticks": ""
                        },
                        "colorscale": [
                          [
                            0,
                            "#0d0887"
                          ],
                          [
                            0.1111111111111111,
                            "#46039f"
                          ],
                          [
                            0.2222222222222222,
                            "#7201a8"
                          ],
                          [
                            0.3333333333333333,
                            "#9c179e"
                          ],
                          [
                            0.4444444444444444,
                            "#bd3786"
                          ],
                          [
                            0.5555555555555556,
                            "#d8576b"
                          ],
                          [
                            0.6666666666666666,
                            "#ed7953"
                          ],
                          [
                            0.7777777777777778,
                            "#fb9f3a"
                          ],
                          [
                            0.8888888888888888,
                            "#fdca26"
                          ],
                          [
                            1,
                            "#f0f921"
                          ]
                        ],
                        "type": "histogram2d"
                      }
                    ],
                    "histogram2dcontour": [
                      {
                        "colorbar": {
                          "outlinewidth": 0,
                          "ticks": ""
                        },
                        "colorscale": [
                          [
                            0,
                            "#0d0887"
                          ],
                          [
                            0.1111111111111111,
                            "#46039f"
                          ],
                          [
                            0.2222222222222222,
                            "#7201a8"
                          ],
                          [
                            0.3333333333333333,
                            "#9c179e"
                          ],
                          [
                            0.4444444444444444,
                            "#bd3786"
                          ],
                          [
                            0.5555555555555556,
                            "#d8576b"
                          ],
                          [
                            0.6666666666666666,
                            "#ed7953"
                          ],
                          [
                            0.7777777777777778,
                            "#fb9f3a"
                          ],
                          [
                            0.8888888888888888,
                            "#fdca26"
                          ],
                          [
                            1,
                            "#f0f921"
                          ]
                        ],
                        "type": "histogram2dcontour"
                      }
                    ],
                    "mesh3d": [
                      {
                        "colorbar": {
                          "outlinewidth": 0,
                          "ticks": ""
                        },
                        "type": "mesh3d"
                      }
                    ],
                    "parcoords": [
                      {
                        "line": {
                          "colorbar": {
                            "outlinewidth": 0,
                            "ticks": ""
                          }
                        },
                        "type": "parcoords"
                      }
                    ],
                    "pie": [
                      {
                        "automargin": true,
                        "type": "pie"
                      }
                    ],
                    "scatter": [
                      {
                        "fillpattern": {
                          "fillmode": "overlay",
                          "size": 10,
                          "solidity": 0.2
                        },
                        "type": "scatter"
                      }
                    ],
                    "scatter3d": [
                      {
                        "line": {
                          "colorbar": {
                            "outlinewidth": 0,
                            "ticks": ""
                          }
                        },
                        "marker": {
                          "colorbar": {
                            "outlinewidth": 0,
                            "ticks": ""
                          }
                        },
                        "type": "scatter3d"
                      }
                    ],
                    "scattercarpet": [
                      {
                        "marker": {
                          "colorbar": {
                            "outlinewidth": 0,
                            "ticks": ""
                          }
                        },
                        "type": "scattercarpet"
                      }
                    ],
                    "scattergeo": [
                      {
                        "marker": {
                          "colorbar": {
                            "outlinewidth": 0,
                            "ticks": ""
                          }
                        },
                        "type": "scattergeo"
                      }
                    ],
                    "scattergl": [
                      {
                        "marker": {
                          "colorbar": {
                            "outlinewidth": 0,
                            "ticks": ""
                          }
                        },
                        "type": "scattergl"
                      }
                    ],
                    "scattermapbox": [
                      {
                        "marker": {
                          "colorbar": {
                            "outlinewidth": 0,
                            "ticks": ""
                          }
                        },
                        "type": "scattermapbox"
                      }
                    ],
                    "scatterpolar": [
                      {
                        "marker": {
                          "colorbar": {
                            "outlinewidth": 0,
                            "ticks": ""
                          }
                        },
                        "type": "scatterpolar"
                      }
                    ],
                    "scatterpolargl": [
                      {
                        "marker": {
                          "colorbar": {
                            "outlinewidth": 0,
                            "ticks": ""
                          }
                        },
                        "type": "scatterpolargl"
                      }
                    ],
                    "scatterternary": [
                      {
                        "marker": {
                          "colorbar": {
                            "outlinewidth": 0,
                            "ticks": ""
                          }
                        },
                        "type": "scatterternary"
                      }
                    ],
                    "surface": [
                      {
                        "colorbar": {
                          "outlinewidth": 0,
                          "ticks": ""
                        },
                        "colorscale": [
                          [
                            0,
                            "#0d0887"
                          ],
                          [
                            0.1111111111111111,
                            "#46039f"
                          ],
                          [
                            0.2222222222222222,
                            "#7201a8"
                          ],
                          [
                            0.3333333333333333,
                            "#9c179e"
                          ],
                          [
                            0.4444444444444444,
                            "#bd3786"
                          ],
                          [
                            0.5555555555555556,
                            "#d8576b"
                          ],
                          [
                            0.6666666666666666,
                            "#ed7953"
                          ],
                          [
                            0.7777777777777778,
                            "#fb9f3a"
                          ],
                          [
                            0.8888888888888888,
                            "#fdca26"
                          ],
                          [
                            1,
                            "#f0f921"
                          ]
                        ],
                        "type": "surface"
                      }
                    ],
                    "table": [
                      {
                        "cells": {
                          "fill": {
                            "color": "#EBF0F8"
                          },
                          "line": {
                            "color": "white"
                          }
                        },
                        "header": {
                          "fill": {
                            "color": "#C8D4E3"
                          },
                          "line": {
                            "color": "white"
                          }
                        },
                        "type": "table"
                      }
                    ]
                  },
                  "layout": {
                    "annotationdefaults": {
                      "arrowcolor": "#2a3f5f",
                      "arrowhead": 0,
                      "arrowwidth": 1
                    },
                    "autotypenumbers": "strict",
                    "coloraxis": {
                      "colorbar": {
                        "outlinewidth": 0,
                        "ticks": ""
                      }
                    },
                    "colorscale": {
                      "diverging": [
                        [
                          0,
                          "#8e0152"
                        ],
                        [
                          0.1,
                          "#c51b7d"
                        ],
                        [
                          0.2,
                          "#de77ae"
                        ],
                        [
                          0.3,
                          "#f1b6da"
                        ],
                        [
                          0.4,
                          "#fde0ef"
                        ],
                        [
                          0.5,
                          "#f7f7f7"
                        ],
                        [
                          0.6,
                          "#e6f5d0"
                        ],
                        [
                          0.7,
                          "#b8e186"
                        ],
                        [
                          0.8,
                          "#7fbc41"
                        ],
                        [
                          0.9,
                          "#4d9221"
                        ],
                        [
                          1,
                          "#276419"
                        ]
                      ],
                      "sequential": [
                        [
                          0,
                          "#0d0887"
                        ],
                        [
                          0.1111111111111111,
                          "#46039f"
                        ],
                        [
                          0.2222222222222222,
                          "#7201a8"
                        ],
                        [
                          0.3333333333333333,
                          "#9c179e"
                        ],
                        [
                          0.4444444444444444,
                          "#bd3786"
                        ],
                        [
                          0.5555555555555556,
                          "#d8576b"
                        ],
                        [
                          0.6666666666666666,
                          "#ed7953"
                        ],
                        [
                          0.7777777777777778,
                          "#fb9f3a"
                        ],
                        [
                          0.8888888888888888,
                          "#fdca26"
                        ],
                        [
                          1,
                          "#f0f921"
                        ]
                      ],
                      "sequentialminus": [
                        [
                          0,
                          "#0d0887"
                        ],
                        [
                          0.1111111111111111,
                          "#46039f"
                        ],
                        [
                          0.2222222222222222,
                          "#7201a8"
                        ],
                        [
                          0.3333333333333333,
                          "#9c179e"
                        ],
                        [
                          0.4444444444444444,
                          "#bd3786"
                        ],
                        [
                          0.5555555555555556,
                          "#d8576b"
                        ],
                        [
                          0.6666666666666666,
                          "#ed7953"
                        ],
                        [
                          0.7777777777777778,
                          "#fb9f3a"
                        ],
                        [
                          0.8888888888888888,
                          "#fdca26"
                        ],
                        [
                          1,
                          "#f0f921"
                        ]
                      ]
                    },
                    "colorway": [
                      "#636efa",
                      "#EF553B",
                      "#00cc96",
                      "#ab63fa",
                      "#FFA15A",
                      "#19d3f3",
                      "#FF6692",
                      "#B6E880",
                      "#FF97FF",
                      "#FECB52"
                    ],
                    "font": {
                      "color": "#2a3f5f"
                    },
                    "geo": {
                      "bgcolor": "white",
                      "lakecolor": "white",
                      "landcolor": "#E5ECF6",
                      "showlakes": true,
                      "showland": true,
                      "subunitcolor": "white"
                    },
                    "hoverlabel": {
                      "align": "left"
                    },
                    "hovermode": "closest",
                    "mapbox": {
                      "style": "light"
                    },
                    "paper_bgcolor": "white",
                    "plot_bgcolor": "#E5ECF6",
                    "polar": {
                      "angularaxis": {
                        "gridcolor": "white",
                        "linecolor": "white",
                        "ticks": ""
                      },
                      "bgcolor": "#E5ECF6",
                      "radialaxis": {
                        "gridcolor": "white",
                        "linecolor": "white",
                        "ticks": ""
                      }
                    },
                    "scene": {
                      "xaxis": {
                        "backgroundcolor": "#E5ECF6",
                        "gridcolor": "white",
                        "gridwidth": 2,
                        "linecolor": "white",
                        "showbackground": true,
                        "ticks": "",
                        "zerolinecolor": "white"
                      },
                      "yaxis": {
                        "backgroundcolor": "#E5ECF6",
                        "gridcolor": "white",
                        "gridwidth": 2,
                        "linecolor": "white",
                        "showbackground": true,
                        "ticks": "",
                        "zerolinecolor": "white"
                      },
                      "zaxis": {
                        "backgroundcolor": "#E5ECF6",
                        "gridcolor": "white",
                        "gridwidth": 2,
                        "linecolor": "white",
                        "showbackground": true,
                        "ticks": "",
                        "zerolinecolor": "white"
                      }
                    },
                    "shapedefaults": {
                      "line": {
                        "color": "#2a3f5f"
                      }
                    },
                    "ternary": {
                      "aaxis": {
                        "gridcolor": "white",
                        "linecolor": "white",
                        "ticks": ""
                      },
                      "baxis": {
                        "gridcolor": "white",
                        "linecolor": "white",
                        "ticks": ""
                      },
                      "bgcolor": "#E5ECF6",
                      "caxis": {
                        "gridcolor": "white",
                        "linecolor": "white",
                        "ticks": ""
                      }
                    },
                    "title": {
                      "x": 0.05
                    },
                    "xaxis": {
                      "automargin": true,
                      "gridcolor": "white",
                      "linecolor": "white",
                      "ticks": "",
                      "title": {
                        "standoff": 15
                      },
                      "zerolinecolor": "white",
                      "zerolinewidth": 2
                    },
                    "yaxis": {
                      "automargin": true,
                      "gridcolor": "white",
                      "linecolor": "white",
                      "ticks": "",
                      "title": {
                        "standoff": 15
                      },
                      "zerolinecolor": "white",
                      "zerolinewidth": 2
                    }
                  }
                },
                "title": {
                  "font": {
                    "color": "#2A3E4C",
                    "family": "Roboto, Helvetica, Arial",
                    "size": 24
                  },
                  "text": "Unresolved E-Tickets Per Developer by Category: 2020 to 2024",
                  "x": 0.05,
                  "y": 0.95
                },
                "xaxis": {
                  "anchor": "y",
                  "domain": [
                    0,
                    1
                  ],
                  "gridcolor": "lightgray",
                  "title": {
                    "text": "Number of Unresolved Tickets Per Developer"
                  },
                  "zeroline": true,
                  "zerolinecolor": "gray",
                  "zerolinewidth": 2
                },
                "yaxis": {
                  "anchor": "x",
                  "automargin": true,
                  "domain": [
                    0,
                    1
                  ],
                  "title": {
                    "text": ""
                  }
                }
              }
            }
          },
          "metadata": {},
          "output_type": "display_data"
        }
      ],
      "source": [
        "# Define the number of developers for each year\n",
        "developers_per_year = {\n",
        "    '2020': 4,\n",
        "    '2021': 6,\n",
        "    '2022': 8,\n",
        "    '2023': 10,\n",
        "    '2024': 15\n",
        "}\n",
        "\n",
        "# Map the number of developers to the combined_data DataFrame\n",
        "combined_data['Developers'] = combined_data['Year'].map(developers_per_year)\n",
        "\n",
        "# Calculate unresolved tickets per developer based on the increasing number of developers\n",
        "combined_data['Unresolved Tickets Per Developer'] = combined_data['Unresolved Tickets'] / combined_data['Developers']\n",
        "combined_data.groupby('Year').head()\n",
        "\n",
        "# Now, you can use this new column in your plot\n",
        "fig = px.bar(\n",
        "    combined_data,\n",
        "    x='Unresolved Tickets Per Developer',\n",
        "    y='Ticket Category',\n",
        "    color='Year',\n",
        "    barmode='group',\n",
        "    title='Unresolved E-Tickets Per Developer by Category: 2020 to 2024',\n",
        "    orientation='h',\n",
        "    color_discrete_sequence=px.colors.qualitative.Pastel  # Using pastel colors\n",
        ")\n",
        "\n",
        "# Customize layout for modern look (similar to your previous layout)\n",
        "fig.update_layout(\n",
        "    plot_bgcolor='white',\n",
        "    font=dict(family=\"Helvetica\", size=14, color=\"#2A3E4C\"),  # Modern font\n",
        "    title=dict(\n",
        "        text='Unresolved E-Tickets Per Developer by Category: 2020 to 2024',\n",
        "        x=0.05,\n",
        "        y=0.95,\n",
        "        font=dict(size=24, family=\"Roboto, Helvetica, Arial\", color=\"#2A3E4C\")  # Larger title with modern font\n",
        "    ),\n",
        "    margin=dict(t=80, b=40),  # Add more spacing between title and graph\n",
        "    bargap=0.2,  # Adding some space between the bars for clarity\n",
        "    showlegend=True,  # Show legend\n",
        "    legend=dict(\n",
        "        title_text='Year', orientation='h', yanchor='bottom', y=1.02, xanchor='right', x=1\n",
        "    ),\n",
        "    xaxis=dict(\n",
        "        title_text='Number of Unresolved Tickets Per Developer',\n",
        "        gridcolor='lightgray',\n",
        "        zeroline=True,\n",
        "        zerolinewidth=2,\n",
        "        zerolinecolor='gray'\n",
        "    ),\n",
        "    yaxis=dict(\n",
        "        title_text='',  # Remove y-axis title for a cleaner look\n",
        "        automargin=True\n",
        "    ),\n",
        "    sliders=[{\n",
        "        'steps': [\n",
        "            {'label': 'All Years', 'method': 'update', 'args': [{'visible': [True] * 5}, {'title': 'Unresolved E-Tickets Per Developer by Category: All Years'}]},\n",
        "            {'label': '2020', 'method': 'update', 'args': [{'visible': [True, False, False, False, False]}, {'title': 'Unresolved E-Tickets Per Developer by Category: 2020'}]},\n",
        "            {'label': '2021', 'method': 'update', 'args': [{'visible': [False, True, False, False, False]}, {'title': 'Unresolved E-Tickets Per Developer by Category: 2021'}]},\n",
        "            {'label': '2022', 'method': 'update', 'args': [{'visible': [False, False, True, False, False]}, {'title': 'Unresolved E-Tickets Per Developer by Category: 2022'}]},\n",
        "            {'label': '2023', 'method': 'update', 'args': [{'visible': [False, False, False, True, False]}, {'title': 'Unresolved E-Tickets Per Developer by Category: 2023'}]},\n",
        "            {'label': '2024', 'method': 'update', 'args': [{'visible': [False, False, False, False, True]}, {'title': 'Unresolved E-Tickets Per Developer by Category: 2024'}]}\n",
        "        ],\n",
        "        'active': 0,\n",
        "        'currentvalue': {'prefix': 'Year: ', 'font': {'size': 16, 'family': 'Roboto'}},\n",
        "        'pad': {'t': 50}\n",
        "    }]\n",
        ")\n",
        "\n",
        "# Display the interactive plot\n",
        "fig.show()"
      ]
    }
  ],
  "metadata": {
    "colab": {
      "provenance": []
    },
    "kernelspec": {
      "display_name": "Python 3",
      "name": "python3"
    },
    "language_info": {
      "codemirror_mode": {
        "name": "ipython",
        "version": 3
      },
      "file_extension": ".py",
      "mimetype": "text/x-python",
      "name": "python",
      "nbconvert_exporter": "python",
      "pygments_lexer": "ipython3",
      "version": "3.12.2"
    }
  },
  "nbformat": 4,
  "nbformat_minor": 0
}
