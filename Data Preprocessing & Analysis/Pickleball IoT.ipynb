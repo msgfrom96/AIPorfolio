{
 "cells": [
  {
   "cell_type": "markdown",
   "id": "b694dbee",
   "metadata": {},
   "source": [
    "## Plan Our Approach\n",
    "\n",
    "> What sport are we tracking\n",
    ">> Pickleball\n",
    "\n",
    "> What data are we tracking? <br>\n",
    "> These represent columns of the data, each row represents a player in game.\n",
    ">>* Name\n",
    ">>* Game\n",
    ">>* Average outdoor temperature\n",
    ">>* Points for \n",
    ">>* Points conceded\n",
    ">>* Balls into net\n",
    ">>* Overhit balls\n",
    ">>* Distance traveled\n",
    ">>* Heartrate (need whole different dataset with this)\n",
    "\n",
    "> What kind of calculations would we want to perform?\n",
    ">>* Mistakes per game\n",
    ">>* Average point differential\n",
    ">>* (Balls into net + Overhit balls) / Points won -- Ratio of points won to mistakes made\n",
    ">>* Finding average heartrate when losing vs winning\n",
    ">>* Finding average temperature when losing vs winning\n",
    "\n",
    "> How would we want to summarize and present the results?\n",
    ">>* See what can improve on or avoid. \n",
    ">>* See what characteristic lead to winning more.\n",
    "\n",
    "## Using ChatGPT to Generate Synthetic Data\n",
    "> Prompt we provided:\n",
    ">> can you create a 10 indexed dictionary with these attributes with random data. \n",
    ">>* Name\n",
    ">>* Game\n",
    ">>* Average outdoor temperature\n",
    ">>* Points for \n",
    ">>* Points conceded\n",
    ">>* Balls into net\n",
    ">>* Overhit balls\n",
    ">>* Distance traveled\n",
    ">>* Heartrate (need whole different dataset with this)"
   ]
  },
  {
   "cell_type": "code",
   "execution_count": 14,
   "id": "8156db27",
   "metadata": {},
   "outputs": [],
   "source": [
    "import random\n",
    "\n",
    "# Define lists of random data to choose from\n",
    "names = [\"Javier\", \"Zach\", \"Maurice\", \"Alex\", \"Taylor\", \"Jordan\", \"Casey\", \"Riley\", \"Morgan\", \"Blake\"]\n",
    "games = list(range(1, 6))  # Assume games 1 to 5\n",
    "temperatures = list(range(70, 91))  # Average outdoor temperatures between 70°F and 90°F\n",
    "points = list(range(6, 12))  # Points scored (6 to 11)\n",
    "points_conceded = list(range(5, 12))  # Points conceded (5 to 11)\n",
    "balls_into_net = list(range(1, 10))  # Balls into the net (1 to 9)\n",
    "overhit_balls = list(range(0, 5))  # Overhit balls (0 to 4)\n",
    "distances = [round(random.uniform(0.5, 2.0), 2) for _ in range(10)]  # Distance traveled (0.5 to 2.0 miles)\n",
    "heart_rates = list(range(120, 151))  # Heart rates (120 to 150 bpm)\n",
    "\n",
    "# Generate the dictionary\n",
    "random_data = {\n",
    "    i: {\n",
    "        \"Name\": random.choice(names),\n",
    "        \"Game\": random.choice(games),\n",
    "        \"Average Outdoor Temperature (°F)\": random.choice(temperatures),\n",
    "        \"Points For\": random.choice(points),\n",
    "        \"Points Conceded\": random.choice(points_conceded),\n",
    "        \"Balls Into Net\": random.choice(balls_into_net),\n",
    "        \"Overhit Balls\": random.choice(overhit_balls),\n",
    "        \"Distance Traveled (miles)\": random.choice(distances),\n",
    "        \"Average Heart Rate (bpm)\": random.choice(heart_rates)\n",
    "    }\n",
    "    for i in range(1, 11)\n",
    "}"
   ]
  },
  {
   "cell_type": "code",
   "execution_count": 15,
   "id": "ef2175ab",
   "metadata": {},
   "outputs": [],
   "source": [
    "import pandas as pd\n",
    "\n",
    "df = pd.DataFrame.from_dict(random_data, orient='index')"
   ]
  },
  {
   "cell_type": "code",
   "execution_count": 16,
   "id": "12189b56",
   "metadata": {},
   "outputs": [],
   "source": [
    "# grouping by name\n",
    "grouped_df = df.groupby('Name')"
   ]
  },
  {
   "cell_type": "code",
   "execution_count": 17,
   "id": "9fa3c5b4",
   "metadata": {},
   "outputs": [
    {
     "name": "stdout",
     "output_type": "stream",
     "text": [
      "    Name  Game  Average Outdoor Temperature (°F)  Points For  Points Conceded  \\\n",
      "2  Casey     3                                80          10               11   \n",
      "\n",
      "   Balls Into Net  Overhit Balls  Distance Traveled (miles)  \\\n",
      "2               9              2                       1.63   \n",
      "\n",
      "   Average Heart Rate (bpm)  \n",
      "2                       134  \n",
      "      Name  Game  Average Outdoor Temperature (°F)  Points For  \\\n",
      "10  Javier     2                                90           8   \n",
      "\n",
      "    Points Conceded  Balls Into Net  Overhit Balls  Distance Traveled (miles)  \\\n",
      "10                6               6              2                       1.97   \n",
      "\n",
      "    Average Heart Rate (bpm)  \n",
      "10                       121  \n",
      "     Name  Game  Average Outdoor Temperature (°F)  Points For  \\\n",
      "5  Jordan     3                                81           7   \n",
      "8  Jordan     1                                73          11   \n",
      "\n",
      "   Points Conceded  Balls Into Net  Overhit Balls  Distance Traveled (miles)  \\\n",
      "5                7               5              0                       0.60   \n",
      "8                6               1              1                       0.67   \n",
      "\n",
      "   Average Heart Rate (bpm)  \n",
      "5                       148  \n",
      "8                       137  \n",
      "     Name  Game  Average Outdoor Temperature (°F)  Points For  \\\n",
      "4  Morgan     3                                87          10   \n",
      "7  Morgan     5                                78           8   \n",
      "9  Morgan     3                                89          11   \n",
      "\n",
      "   Points Conceded  Balls Into Net  Overhit Balls  Distance Traveled (miles)  \\\n",
      "4                9               5              3                       0.67   \n",
      "7                7               3              3                       1.97   \n",
      "9                6               9              2                       0.62   \n",
      "\n",
      "   Average Heart Rate (bpm)  \n",
      "4                       120  \n",
      "7                       127  \n",
      "9                       123  \n",
      "    Name  Game  Average Outdoor Temperature (°F)  Points For  Points Conceded  \\\n",
      "3  Riley     4                                87           8               11   \n",
      "6  Riley     5                                77           8                8   \n",
      "\n",
      "   Balls Into Net  Overhit Balls  Distance Traveled (miles)  \\\n",
      "3               3              4                       1.46   \n",
      "6               6              0                       0.77   \n",
      "\n",
      "   Average Heart Rate (bpm)  \n",
      "3                       127  \n",
      "6                       137  \n",
      "   Name  Game  Average Outdoor Temperature (°F)  Points For  Points Conceded  \\\n",
      "1  Zach     3                                76           6                6   \n",
      "\n",
      "   Balls Into Net  Overhit Balls  Distance Traveled (miles)  \\\n",
      "1               4              3                       0.77   \n",
      "\n",
      "   Average Heart Rate (bpm)  \n",
      "1                       120  \n"
     ]
    }
   ],
   "source": [
    "for name, group in grouped_df:\n",
    "    print(group)"
   ]
  },
  {
   "cell_type": "code",
   "execution_count": 18,
   "id": "cc529cb1",
   "metadata": {},
   "outputs": [],
   "source": [
    "# Adding a new column to show point differential\n",
    "df['Differential'] = df['Points For'] - df['Points Conceded']"
   ]
  },
  {
   "cell_type": "code",
   "execution_count": 19,
   "id": "eef53c84",
   "metadata": {},
   "outputs": [
    {
     "data": {
      "text/html": [
       "<div>\n",
       "<style scoped>\n",
       "    .dataframe tbody tr th:only-of-type {\n",
       "        vertical-align: middle;\n",
       "    }\n",
       "\n",
       "    .dataframe tbody tr th {\n",
       "        vertical-align: top;\n",
       "    }\n",
       "\n",
       "    .dataframe thead th {\n",
       "        text-align: right;\n",
       "    }\n",
       "</style>\n",
       "<table border=\"1\" class=\"dataframe\">\n",
       "  <thead>\n",
       "    <tr style=\"text-align: right;\">\n",
       "      <th></th>\n",
       "      <th>Name</th>\n",
       "      <th>Game</th>\n",
       "      <th>Average Outdoor Temperature (°F)</th>\n",
       "      <th>Points For</th>\n",
       "      <th>Points Conceded</th>\n",
       "      <th>Balls Into Net</th>\n",
       "      <th>Overhit Balls</th>\n",
       "      <th>Distance Traveled (miles)</th>\n",
       "      <th>Average Heart Rate (bpm)</th>\n",
       "      <th>Differential</th>\n",
       "    </tr>\n",
       "  </thead>\n",
       "  <tbody>\n",
       "    <tr>\n",
       "      <th>1</th>\n",
       "      <td>Zach</td>\n",
       "      <td>3</td>\n",
       "      <td>76</td>\n",
       "      <td>6</td>\n",
       "      <td>6</td>\n",
       "      <td>4</td>\n",
       "      <td>3</td>\n",
       "      <td>0.77</td>\n",
       "      <td>120</td>\n",
       "      <td>0</td>\n",
       "    </tr>\n",
       "    <tr>\n",
       "      <th>2</th>\n",
       "      <td>Casey</td>\n",
       "      <td>3</td>\n",
       "      <td>80</td>\n",
       "      <td>10</td>\n",
       "      <td>11</td>\n",
       "      <td>9</td>\n",
       "      <td>2</td>\n",
       "      <td>1.63</td>\n",
       "      <td>134</td>\n",
       "      <td>-1</td>\n",
       "    </tr>\n",
       "    <tr>\n",
       "      <th>3</th>\n",
       "      <td>Riley</td>\n",
       "      <td>4</td>\n",
       "      <td>87</td>\n",
       "      <td>8</td>\n",
       "      <td>11</td>\n",
       "      <td>3</td>\n",
       "      <td>4</td>\n",
       "      <td>1.46</td>\n",
       "      <td>127</td>\n",
       "      <td>-3</td>\n",
       "    </tr>\n",
       "    <tr>\n",
       "      <th>4</th>\n",
       "      <td>Morgan</td>\n",
       "      <td>3</td>\n",
       "      <td>87</td>\n",
       "      <td>10</td>\n",
       "      <td>9</td>\n",
       "      <td>5</td>\n",
       "      <td>3</td>\n",
       "      <td>0.67</td>\n",
       "      <td>120</td>\n",
       "      <td>1</td>\n",
       "    </tr>\n",
       "    <tr>\n",
       "      <th>5</th>\n",
       "      <td>Jordan</td>\n",
       "      <td>3</td>\n",
       "      <td>81</td>\n",
       "      <td>7</td>\n",
       "      <td>7</td>\n",
       "      <td>5</td>\n",
       "      <td>0</td>\n",
       "      <td>0.60</td>\n",
       "      <td>148</td>\n",
       "      <td>0</td>\n",
       "    </tr>\n",
       "    <tr>\n",
       "      <th>6</th>\n",
       "      <td>Riley</td>\n",
       "      <td>5</td>\n",
       "      <td>77</td>\n",
       "      <td>8</td>\n",
       "      <td>8</td>\n",
       "      <td>6</td>\n",
       "      <td>0</td>\n",
       "      <td>0.77</td>\n",
       "      <td>137</td>\n",
       "      <td>0</td>\n",
       "    </tr>\n",
       "    <tr>\n",
       "      <th>7</th>\n",
       "      <td>Morgan</td>\n",
       "      <td>5</td>\n",
       "      <td>78</td>\n",
       "      <td>8</td>\n",
       "      <td>7</td>\n",
       "      <td>3</td>\n",
       "      <td>3</td>\n",
       "      <td>1.97</td>\n",
       "      <td>127</td>\n",
       "      <td>1</td>\n",
       "    </tr>\n",
       "    <tr>\n",
       "      <th>8</th>\n",
       "      <td>Jordan</td>\n",
       "      <td>1</td>\n",
       "      <td>73</td>\n",
       "      <td>11</td>\n",
       "      <td>6</td>\n",
       "      <td>1</td>\n",
       "      <td>1</td>\n",
       "      <td>0.67</td>\n",
       "      <td>137</td>\n",
       "      <td>5</td>\n",
       "    </tr>\n",
       "    <tr>\n",
       "      <th>9</th>\n",
       "      <td>Morgan</td>\n",
       "      <td>3</td>\n",
       "      <td>89</td>\n",
       "      <td>11</td>\n",
       "      <td>6</td>\n",
       "      <td>9</td>\n",
       "      <td>2</td>\n",
       "      <td>0.62</td>\n",
       "      <td>123</td>\n",
       "      <td>5</td>\n",
       "    </tr>\n",
       "    <tr>\n",
       "      <th>10</th>\n",
       "      <td>Javier</td>\n",
       "      <td>2</td>\n",
       "      <td>90</td>\n",
       "      <td>8</td>\n",
       "      <td>6</td>\n",
       "      <td>6</td>\n",
       "      <td>2</td>\n",
       "      <td>1.97</td>\n",
       "      <td>121</td>\n",
       "      <td>2</td>\n",
       "    </tr>\n",
       "  </tbody>\n",
       "</table>\n",
       "</div>"
      ],
      "text/plain": [
       "      Name  Game  Average Outdoor Temperature (°F)  Points For  \\\n",
       "1     Zach     3                                76           6   \n",
       "2    Casey     3                                80          10   \n",
       "3    Riley     4                                87           8   \n",
       "4   Morgan     3                                87          10   \n",
       "5   Jordan     3                                81           7   \n",
       "6    Riley     5                                77           8   \n",
       "7   Morgan     5                                78           8   \n",
       "8   Jordan     1                                73          11   \n",
       "9   Morgan     3                                89          11   \n",
       "10  Javier     2                                90           8   \n",
       "\n",
       "    Points Conceded  Balls Into Net  Overhit Balls  Distance Traveled (miles)  \\\n",
       "1                 6               4              3                       0.77   \n",
       "2                11               9              2                       1.63   \n",
       "3                11               3              4                       1.46   \n",
       "4                 9               5              3                       0.67   \n",
       "5                 7               5              0                       0.60   \n",
       "6                 8               6              0                       0.77   \n",
       "7                 7               3              3                       1.97   \n",
       "8                 6               1              1                       0.67   \n",
       "9                 6               9              2                       0.62   \n",
       "10                6               6              2                       1.97   \n",
       "\n",
       "    Average Heart Rate (bpm)  Differential  \n",
       "1                        120             0  \n",
       "2                        134            -1  \n",
       "3                        127            -3  \n",
       "4                        120             1  \n",
       "5                        148             0  \n",
       "6                        137             0  \n",
       "7                        127             1  \n",
       "8                        137             5  \n",
       "9                        123             5  \n",
       "10                       121             2  "
      ]
     },
     "execution_count": 19,
     "metadata": {},
     "output_type": "execute_result"
    }
   ],
   "source": [
    "df"
   ]
  },
  {
   "cell_type": "code",
   "execution_count": 20,
   "id": "b4ec2b9c",
   "metadata": {},
   "outputs": [
    {
     "name": "stdout",
     "output_type": "stream",
     "text": [
      "Using matplotlib backend: module://matplotlib_inline.backend_inline\n"
     ]
    },
    {
     "data": {
      "image/png": "[encoded data removed]",
      "text/plain": [
       "<Figure size 1000x600 with 1 Axes>"
      ]
     },
     "metadata": {},
     "output_type": "display_data"
    }
   ],
   "source": [
    "# Creating a graph that shows the correlation between overhit balls and the temperature\n",
    "%matplotlib\n",
    "import matplotlib.pyplot as plt\n",
    "\n",
    "plt.figure(figsize=(10, 6))\n",
    "plt.scatter(df['Average Outdoor Temperature (°F)'], df['Balls Into Net'], color='blue')\n",
    "plt.title('Correlation between Temperature and Balls Into Net')\n",
    "plt.xlabel('Average Outdoor Temperature (°F)')\n",
    "plt.ylabel('Balls Into Net')\n",
    "plt.grid(True)\n",
    "plt.show()"
   ]
  },
  {
   "cell_type": "code",
   "execution_count": 22,
   "id": "2e121752",
   "metadata": {},
   "outputs": [
    {
     "name": "stdout",
     "output_type": "stream",
     "text": [
      "0.4563701523037892\n"
     ]
    }
   ],
   "source": [
    "from scipy.stats import pearsonr\n",
    "\n",
    "# Calculate the Pearson correlation coefficient (r value)\n",
    "r_value, _ = pearsonr(df['Average Outdoor Temperature (°F)'], df['Balls Into Net'])\n",
    "print(r_value)"
   ]
  },
  {
   "cell_type": "markdown",
   "id": "88cc7ee6",
   "metadata": {},
   "source": [
    ">> There isn't any correlation between net hit balls and the temperature"
   ]
  },
  {
   "cell_type": "code",
   "execution_count": 23,
   "id": "00799910",
   "metadata": {},
   "outputs": [
    {
     "name": "stdout",
     "output_type": "stream",
     "text": [
      "Using matplotlib backend: module://matplotlib_inline.backend_inline\n"
     ]
    },
    {
     "data": {
      "image/png": "[encoded data removed]",
      "text/plain": [
       "<Figure size 1000x600 with 1 Axes>"
      ]
     },
     "metadata": {},
     "output_type": "display_data"
    }
   ],
   "source": [
    "# Creating a graph that shows the correlation between net hit balls and the temperature\n",
    "%matplotlib\n",
    "import matplotlib.pyplot as plt\n",
    "\n",
    "plt.figure(figsize=(10, 6))\n",
    "plt.scatter(df['Average Outdoor Temperature (°F)'], df['Overhit Balls'], color='blue')\n",
    "plt.title('Correlation between Temperature and Overhit Balls')\n",
    "plt.xlabel('Average Outdoor Temperature (°F)')\n",
    "plt.ylabel('Overhit Balls')\n",
    "plt.grid(True)\n",
    "plt.show()"
   ]
  },
  {
   "cell_type": "code",
   "execution_count": 24,
   "id": "52b5194f",
   "metadata": {},
   "outputs": [
    {
     "name": "stdout",
     "output_type": "stream",
     "text": [
      "0.36022276754869653 0.3065474572744082\n"
     ]
    }
   ],
   "source": [
    "from scipy.stats import pearsonr\n",
    "\n",
    "# Calculate the Pearson correlation coefficient (r value)\n",
    "r_value, p_value = pearsonr(df['Average Outdoor Temperature (°F)'], df['Overhit Balls'])\n",
    "print(r_value, p_value)"
   ]
  },
  {
   "cell_type": "markdown",
   "id": "79191fd0",
   "metadata": {},
   "source": [
    ">> There isn't any correlation between overhit balls and the temperature"
   ]
  },
  {
   "cell_type": "code",
   "execution_count": 25,
   "id": "18c88808",
   "metadata": {},
   "outputs": [],
   "source": [
    "# Creating a ratio to see the mistakes made to how many points scored\n",
    "df['Mistake Ratio'] = (df['Balls Into Net'] + df['Overhit Balls']) / df[\"Points For\"]"
   ]
  },
  {
   "cell_type": "code",
   "execution_count": 26,
   "id": "df844ac1",
   "metadata": {},
   "outputs": [
    {
     "data": {
      "image/png": "[encoded data removed]",
      "text/plain": [
       "<Figure size 1000x600 with 1 Axes>"
      ]
     },
     "metadata": {},
     "output_type": "display_data"
    }
   ],
   "source": [
    "plt.figure(figsize=(10, 6))\n",
    "plt.scatter(df['Mistake Ratio'], df['Differential'], color='blue')\n",
    "plt.title('Correlation between Mistake Ratio and Differential')\n",
    "plt.xlabel('Mistake Ratio')\n",
    "plt.ylabel('Differential')\n",
    "plt.grid(True)\n",
    "plt.show()"
   ]
  },
  {
   "cell_type": "code",
   "execution_count": 27,
   "id": "0351f2ef",
   "metadata": {},
   "outputs": [
    {
     "data": {
      "text/plain": [
       "Name                                 object\n",
       "Game                                  int64\n",
       "Average Outdoor Temperature (°F)      int64\n",
       "Points For                            int64\n",
       "Points Conceded                       int64\n",
       "Balls Into Net                        int64\n",
       "Overhit Balls                         int64\n",
       "Distance Traveled (miles)           float64\n",
       "Average Heart Rate (bpm)              int64\n",
       "Differential                          int64\n",
       "Mistake Ratio                       float64\n",
       "dtype: object"
      ]
     },
     "execution_count": 27,
     "metadata": {},
     "output_type": "execute_result"
    }
   ],
   "source": [
    "df.dtypes"
   ]
  },
  {
   "cell_type": "markdown",
   "id": "e69b207f",
   "metadata": {},
   "source": [
    "## Comments:\n"
   ]
  },
  {
   "cell_type": "markdown",
   "id": "6e78c242",
   "metadata": {},
   "source": [
    "Group:\n",
    "\n",
    "Zach Guccione\n",
    "Maurice Gleiser\n",
    "Javier Sayle"
   ]
  },
  {
   "cell_type": "markdown",
   "id": "b505dab9",
   "metadata": {},
   "source": [
    "Personal Comment:\n",
    "\n",
    "I believe I aided a lot in the overall result; while Zach was in charge of doing the development, I would support him debugging our code; while the three of us would offer valuable ideas in operation and measuring performance."
   ]
  }
 ],
 "metadata": {
  "kernelspec": {
   "display_name": "Python 3 (ipykernel)",
   "language": "python",
   "name": "python3"
  },
  "language_info": {
   "codemirror_mode": {
    "name": "ipython",
    "version": 3
   },
   "file_extension": ".py",
   "mimetype": "text/x-python",
   "name": "python",
   "nbconvert_exporter": "python",
   "pygments_lexer": "ipython3",
   "version": "3.12.2"
  }
 },
 "nbformat": 4,
 "nbformat_minor": 5
}
