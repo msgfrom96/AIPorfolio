{
 "cells": [
  {
   "cell_type": "markdown",
   "metadata": {
    "id": "VAnrSX5pE5hO"
   },
   "source": [
    "# Prerequisites:\n",
    "\n",
    "- Download the Yelp dataset from https://www.yelp.com/dataset/download (JSON format).\n",
    "- Extract the downloaded zip file and upload the JSON files to JupyterLab.\n",
    "- Make sure the file paths in the code below are correct."
   ]
  },
  {
   "cell_type": "code",
   "execution_count": 1,
   "metadata": {
    "execution": {
     "iopub.execute_input": "2025-01-22T17:44:18.367070Z",
     "iopub.status.busy": "2025-01-22T17:44:18.366766Z",
     "iopub.status.idle": "2025-01-22T17:44:19.638105Z",
     "shell.execute_reply": "2025-01-22T17:44:19.637444Z",
     "shell.execute_reply.started": "2025-01-22T17:44:18.367050Z"
    },
    "id": "_FzvvrVZKVtU",
    "outputId": "a4c587cf-a46f-4b00-94d2-99a23b8e802a",
    "tags": []
   },
   "outputs": [
    {
     "name": "stdout",
     "output_type": "stream",
     "text": [
      "Requirement already satisfied: pandas in /opt/conda/lib/python3.11/site-packages (2.2.3)\n",
      "Requirement already satisfied: numpy>=1.23.2 in /opt/conda/lib/python3.11/site-packages (from pandas) (1.26.4)\n",
      "Requirement already satisfied: python-dateutil>=2.8.2 in /opt/conda/lib/python3.11/site-packages (from pandas) (2.9.0.post0)\n",
      "Requirement already satisfied: pytz>=2020.1 in /opt/conda/lib/python3.11/site-packages (from pandas) (2023.3)\n",
      "Requirement already satisfied: tzdata>=2022.7 in /opt/conda/lib/python3.11/site-packages (from pandas) (2024.2)\n",
      "Requirement already satisfied: six>=1.5 in /opt/conda/lib/python3.11/site-packages (from python-dateutil>=2.8.2->pandas) (1.17.0)\n"
     ]
    }
   ],
   "source": [
    "!pip install pandas"
   ]
  },
  {
   "cell_type": "code",
   "execution_count": 9,
   "metadata": {
    "execution": {
     "iopub.execute_input": "2025-01-22T17:56:24.285925Z",
     "iopub.status.busy": "2025-01-22T17:56:24.285612Z",
     "iopub.status.idle": "2025-01-22T17:56:26.016901Z",
     "shell.execute_reply": "2025-01-22T17:56:26.016235Z",
     "shell.execute_reply.started": "2025-01-22T17:56:24.285904Z"
    }
   },
   "outputs": [
    {
     "name": "stdout",
     "output_type": "stream",
     "text": [
      "Requirement already satisfied: matplotlib in /opt/conda/lib/python3.11/site-packages (3.9.3)\n",
      "Requirement already satisfied: contourpy>=1.0.1 in /opt/conda/lib/python3.11/site-packages (from matplotlib) (1.3.1)\n",
      "Requirement already satisfied: cycler>=0.10 in /opt/conda/lib/python3.11/site-packages (from matplotlib) (0.12.1)\n",
      "Requirement already satisfied: fonttools>=4.22.0 in /opt/conda/lib/python3.11/site-packages (from matplotlib) (4.55.3)\n",
      "Requirement already satisfied: kiwisolver>=1.3.1 in /opt/conda/lib/python3.11/site-packages (from matplotlib) (1.4.7)\n",
      "Requirement already satisfied: numpy>=1.23 in /opt/conda/lib/python3.11/site-packages (from matplotlib) (1.26.4)\n",
      "Requirement already satisfied: packaging>=20.0 in /opt/conda/lib/python3.11/site-packages (from matplotlib) (24.2)\n",
      "Requirement already satisfied: pillow>=8 in /opt/conda/lib/python3.11/site-packages (from matplotlib) (10.4.0)\n",
      "Requirement already satisfied: pyparsing>=2.3.1 in /opt/conda/lib/python3.11/site-packages (from matplotlib) (3.2.0)\n",
      "Requirement already satisfied: python-dateutil>=2.7 in /opt/conda/lib/python3.11/site-packages (from matplotlib) (2.9.0.post0)\n",
      "Requirement already satisfied: six>=1.5 in /opt/conda/lib/python3.11/site-packages (from python-dateutil>=2.7->matplotlib) (1.17.0)\n"
     ]
    }
   ],
   "source": [
    "!pip install matplotlib"
   ]
  },
  {
   "cell_type": "code",
   "execution_count": 2,
   "metadata": {
    "execution": {
     "iopub.execute_input": "2025-01-22T17:44:20.483721Z",
     "iopub.status.busy": "2025-01-22T17:44:20.483384Z",
     "iopub.status.idle": "2025-01-22T17:44:23.539895Z",
     "shell.execute_reply": "2025-01-22T17:44:23.539255Z",
     "shell.execute_reply.started": "2025-01-22T17:44:20.483695Z"
    },
    "scrolled": true
   },
   "outputs": [
    {
     "name": "stdout",
     "output_type": "stream",
     "text": [
      "Collecting s3fs==2023.9.2\n",
      "  Using cached s3fs-2023.9.2-py3-none-any.whl.metadata (1.6 kB)\n",
      "Collecting aiobotocore~=2.5.4 (from s3fs==2023.9.2)\n",
      "  Using cached aiobotocore-2.5.4-py3-none-any.whl.metadata (19 kB)\n",
      "Collecting fsspec==2023.9.2 (from s3fs==2023.9.2)\n",
      "  Using cached fsspec-2023.9.2-py3-none-any.whl.metadata (6.7 kB)\n",
      "Requirement already satisfied: aiohttp!=4.0.0a0,!=4.0.0a1 in /opt/conda/lib/python3.11/site-packages (from s3fs==2023.9.2) (3.9.5)\n",
      "Collecting botocore<1.31.18,>=1.31.17 (from aiobotocore~=2.5.4->s3fs==2023.9.2)\n",
      "  Using cached botocore-1.31.17-py3-none-any.whl.metadata (5.9 kB)\n",
      "Requirement already satisfied: wrapt<2.0.0,>=1.10.10 in /opt/conda/lib/python3.11/site-packages (from aiobotocore~=2.5.4->s3fs==2023.9.2) (1.17.0)\n",
      "Requirement already satisfied: aioitertools<1.0.0,>=0.5.1 in /opt/conda/lib/python3.11/site-packages (from aiobotocore~=2.5.4->s3fs==2023.9.2) (0.12.0)\n",
      "Requirement already satisfied: aiosignal>=1.1.2 in /opt/conda/lib/python3.11/site-packages (from aiohttp!=4.0.0a0,!=4.0.0a1->s3fs==2023.9.2) (1.3.1)\n",
      "Requirement already satisfied: attrs>=17.3.0 in /opt/conda/lib/python3.11/site-packages (from aiohttp!=4.0.0a0,!=4.0.0a1->s3fs==2023.9.2) (23.2.0)\n",
      "Requirement already satisfied: frozenlist>=1.1.1 in /opt/conda/lib/python3.11/site-packages (from aiohttp!=4.0.0a0,!=4.0.0a1->s3fs==2023.9.2) (1.5.0)\n",
      "Requirement already satisfied: multidict<7.0,>=4.5 in /opt/conda/lib/python3.11/site-packages (from aiohttp!=4.0.0a0,!=4.0.0a1->s3fs==2023.9.2) (6.1.0)\n",
      "Requirement already satisfied: yarl<2.0,>=1.0 in /opt/conda/lib/python3.11/site-packages (from aiohttp!=4.0.0a0,!=4.0.0a1->s3fs==2023.9.2) (1.18.3)\n",
      "Requirement already satisfied: jmespath<2.0.0,>=0.7.1 in /opt/conda/lib/python3.11/site-packages (from botocore<1.31.18,>=1.31.17->aiobotocore~=2.5.4->s3fs==2023.9.2) (1.0.1)\n",
      "Requirement already satisfied: python-dateutil<3.0.0,>=2.1 in /opt/conda/lib/python3.11/site-packages (from botocore<1.31.18,>=1.31.17->aiobotocore~=2.5.4->s3fs==2023.9.2) (2.9.0.post0)\n",
      "Requirement already satisfied: urllib3<1.27,>=1.25.4 in /opt/conda/lib/python3.11/site-packages (from botocore<1.31.18,>=1.31.17->aiobotocore~=2.5.4->s3fs==2023.9.2) (1.26.19)\n",
      "Requirement already satisfied: idna>=2.0 in /opt/conda/lib/python3.11/site-packages (from yarl<2.0,>=1.0->aiohttp!=4.0.0a0,!=4.0.0a1->s3fs==2023.9.2) (3.10)\n",
      "Requirement already satisfied: propcache>=0.2.0 in /opt/conda/lib/python3.11/site-packages (from yarl<2.0,>=1.0->aiohttp!=4.0.0a0,!=4.0.0a1->s3fs==2023.9.2) (0.2.1)\n",
      "Requirement already satisfied: six>=1.5 in /opt/conda/lib/python3.11/site-packages (from python-dateutil<3.0.0,>=2.1->botocore<1.31.18,>=1.31.17->aiobotocore~=2.5.4->s3fs==2023.9.2) (1.17.0)\n",
      "Using cached s3fs-2023.9.2-py3-none-any.whl (28 kB)\n",
      "Using cached fsspec-2023.9.2-py3-none-any.whl (173 kB)\n",
      "Using cached aiobotocore-2.5.4-py3-none-any.whl (73 kB)\n",
      "Using cached botocore-1.31.17-py3-none-any.whl (11.1 MB)\n",
      "Installing collected packages: fsspec, botocore, aiobotocore, s3fs\n",
      "  Attempting uninstall: fsspec\n",
      "    Found existing installation: fsspec 2023.6.0\n",
      "    Uninstalling fsspec-2023.6.0:\n",
      "      Successfully uninstalled fsspec-2023.6.0\n",
      "  Attempting uninstall: botocore\n",
      "    Found existing installation: botocore 1.34.162\n",
      "    Uninstalling botocore-1.34.162:\n",
      "      Successfully uninstalled botocore-1.34.162\n",
      "  Attempting uninstall: aiobotocore\n",
      "    Found existing installation: aiobotocore 2.13.3\n",
      "    Uninstalling aiobotocore-2.13.3:\n",
      "      Successfully uninstalled aiobotocore-2.13.3\n",
      "\u001b[31mERROR: pip's dependency resolver does not currently take into account all the packages that are installed. This behaviour is the source of the following dependency conflicts.\n",
      "jupyter-ai 2.28.3 requires faiss-cpu!=1.8.0.post0,<2.0.0,>=1.8.0, which is not installed.\n",
      "amazon-sagemaker-jupyter-scheduler 3.1.7 requires aiobotocore<3,>=2.9, but you have aiobotocore 2.5.4 which is incompatible.\n",
      "amazon-sagemaker-sql-editor 0.1.13 requires aiobotocore<3,>=2.7.0, but you have aiobotocore 2.5.4 which is incompatible.\n",
      "amazon-sagemaker-sql-editor 0.1.13 requires botocore<2,>=1.31.64, but you have botocore 1.31.17 which is incompatible.\n",
      "boto3 1.34.162 requires botocore<1.35.0,>=1.34.162, but you have botocore 1.31.17 which is incompatible.\n",
      "jupyter-scheduler 2.9.0 requires fsspec==2023.6.0, but you have fsspec 2023.9.2 which is incompatible.\n",
      "s3transfer 0.10.4 requires botocore<2.0a.0,>=1.33.2, but you have botocore 1.31.17 which is incompatible.\n",
      "sagemaker-jupyterlab-extension-common 0.1.30 requires aiobotocore>=2.7.0, but you have aiobotocore 2.5.4 which is incompatible.\n",
      "sagemaker-studio 1.0.0 requires botocore>=1.34.106, but you have botocore 1.31.17 which is incompatible.\u001b[0m\u001b[31m\n",
      "\u001b[0mSuccessfully installed aiobotocore-2.5.4 botocore-1.31.17 fsspec-2023.9.2 s3fs-2023.9.2\n"
     ]
    }
   ],
   "source": [
    "!pip install s3fs==2023.9.2"
   ]
  },
  {
   "cell_type": "code",
   "execution_count": 38,
   "metadata": {
    "execution": {
     "iopub.execute_input": "2025-01-22T18:40:39.749214Z",
     "iopub.status.busy": "2025-01-22T18:40:39.748893Z",
     "iopub.status.idle": "2025-01-22T18:40:39.752098Z",
     "shell.execute_reply": "2025-01-22T18:40:39.751603Z",
     "shell.execute_reply.started": "2025-01-22T18:40:39.749193Z"
    }
   },
   "outputs": [],
   "source": [
    "import pandas as pd \n",
    "import s3fs\n",
    "import gc \n",
    "import matplotlib.pyplot as plt"
   ]
  },
  {
   "cell_type": "code",
   "execution_count": 6,
   "metadata": {
    "execution": {
     "iopub.execute_input": "2025-01-22T17:49:20.588263Z",
     "iopub.status.busy": "2025-01-22T17:49:20.587933Z",
     "iopub.status.idle": "2025-01-22T17:49:20.591560Z",
     "shell.execute_reply": "2025-01-22T17:49:20.591068Z",
     "shell.execute_reply.started": "2025-01-22T17:49:20.588242Z"
    },
    "id": "CXF7lvuiE62D",
    "tags": []
   },
   "outputs": [],
   "source": [
    "# File paths for each dataset\n",
    "s3_bucket_path = 's3://amazon-sagemaker-058264306111-us-east-1-e23504aef6c5/dzd_5l5kah6gnsnq3r/bzbm82rtfbxpgn/dev/'\n",
    "business_file_path='s3://amazon-sagemaker-058264306111-us-east-1-e23504aef6c5/dzd_5l5kah6gnsnq3r/bzbm82rtfbxpgn/dev/yelp_academic_dataset_business.json' #S3 location of business.json\n",
    "review_file_path='s3://amazon-sagemaker-058264306111-us-east-1-e23504aef6c5/dzd_5l5kah6gnsnq3r/bzbm82rtfbxpgn/dev/yelp_academic_dataset_review.json'  #S3 location of review.json\n",
    "user_file_path='s3://amazon-sagemaker-058264306111-us-east-1-e23504aef6c5/dzd_5l5kah6gnsnq3r/bzbm82rtfbxpgn/dev/yelp_academic_dataset_user.json'  # S3 location of user.json\n",
    "checkin_file_path='s3://amazon-sagemaker-058264306111-us-east-1-e23504aef6c5/dzd_5l5kah6gnsnq3r/bzbm82rtfbxpgn/dev/yelp_academic_dataset_checkin.json' #S3 location of checkin.json\n",
    "tip_file_path='s3://amazon-sagemaker-058264306111-us-east-1-e23504aef6c5/dzd_5l5kah6gnsnq3r/bzbm82rtfbxpgn/dev/yelp_academic_dataset_tip.json' #S3 location of tip.json"
   ]
  },
  {
   "cell_type": "markdown",
   "metadata": {},
   "source": [
    "# Data Import/Export"
   ]
  },
  {
   "cell_type": "code",
   "execution_count": 7,
   "metadata": {
    "execution": {
     "iopub.execute_input": "2025-01-22T17:50:32.064703Z",
     "iopub.status.busy": "2025-01-22T17:50:32.064376Z",
     "iopub.status.idle": "2025-01-22T17:50:39.276319Z",
     "shell.execute_reply": "2025-01-22T17:50:39.275727Z",
     "shell.execute_reply.started": "2025-01-22T17:50:32.064682Z"
    },
    "id": "An0hfXfVFGjX",
    "tags": []
   },
   "outputs": [],
   "source": [
    "# Reading data\n",
    "business_df = pd.read_json(business_file_path, lines=True)"
   ]
  },
  {
   "cell_type": "code",
   "execution_count": 8,
   "metadata": {
    "editable": true,
    "execution": {
     "iopub.execute_input": "2025-01-22T17:51:57.026623Z",
     "iopub.status.busy": "2025-01-22T17:51:57.026270Z",
     "iopub.status.idle": "2025-01-22T17:56:17.581248Z",
     "shell.execute_reply": "2025-01-22T17:56:17.580698Z",
     "shell.execute_reply.started": "2025-01-22T17:51:57.026601Z"
    },
    "slideshow": {
     "slide_type": ""
    },
    "tags": []
   },
   "outputs": [],
   "source": [
    "review_df = pd.read_json(review_file_path, lines=True)"
   ]
  },
  {
   "cell_type": "code",
   "execution_count": 11,
   "metadata": {
    "execution": {
     "iopub.execute_input": "2025-01-22T17:56:48.705704Z",
     "iopub.status.busy": "2025-01-22T17:56:48.705075Z",
     "iopub.status.idle": "2025-01-22T17:59:30.045828Z",
     "shell.execute_reply": "2025-01-22T17:59:30.045209Z",
     "shell.execute_reply.started": "2025-01-22T17:56:48.705683Z"
    }
   },
   "outputs": [],
   "source": [
    "user_df = pd.read_json(user_file_path, lines=True)"
   ]
  },
  {
   "cell_type": "code",
   "execution_count": 12,
   "metadata": {
    "execution": {
     "iopub.execute_input": "2025-01-22T18:00:22.753730Z",
     "iopub.status.busy": "2025-01-22T18:00:22.753413Z",
     "iopub.status.idle": "2025-01-22T18:00:33.041724Z",
     "shell.execute_reply": "2025-01-22T18:00:33.041190Z",
     "shell.execute_reply.started": "2025-01-22T18:00:22.753709Z"
    }
   },
   "outputs": [],
   "source": [
    "checkin_df = pd.read_json(checkin_file_path, lines=True)"
   ]
  },
  {
   "cell_type": "code",
   "execution_count": 13,
   "metadata": {
    "execution": {
     "iopub.execute_input": "2025-01-22T18:03:01.347300Z",
     "iopub.status.busy": "2025-01-22T18:03:01.346983Z",
     "iopub.status.idle": "2025-01-22T18:03:11.782003Z",
     "shell.execute_reply": "2025-01-22T18:03:11.781466Z",
     "shell.execute_reply.started": "2025-01-22T18:03:01.347280Z"
    }
   },
   "outputs": [],
   "source": [
    "tip_df = pd.read_json(tip_file_path, lines=True)"
   ]
  },
  {
   "cell_type": "code",
   "execution_count": 14,
   "metadata": {
    "execution": {
     "iopub.execute_input": "2025-01-22T18:08:07.518889Z",
     "iopub.status.busy": "2025-01-22T18:08:07.518572Z",
     "iopub.status.idle": "2025-01-22T18:15:11.885254Z",
     "shell.execute_reply": "2025-01-22T18:15:11.884633Z",
     "shell.execute_reply.started": "2025-01-22T18:08:07.518868Z"
    },
    "id": "kmL46y1hFlrO",
    "tags": []
   },
   "outputs": [],
   "source": [
    "# Writing data\n",
    "business_df.to_csv(s3_bucket_path+'/business_output.csv', index=False)\n",
    "review_df.to_csv(s3_bucket_path+'/review_output.csv', index=False)\n",
    "user_df.to_csv(s3_bucket_path+'/user_output.csv', index=False)\n",
    "checkin_df.to_csv(s3_bucket_path+'/checkin_output.csv', index=False)\n",
    "tip_df.to_csv(s3_bucket_path+'/tip_output.csv', index=False)"
   ]
  },
  {
   "cell_type": "markdown",
   "metadata": {},
   "source": [
    "# Data Exploration"
   ]
  },
  {
   "cell_type": "markdown",
   "metadata": {},
   "source": [
    "## Business Dataframe "
   ]
  },
  {
   "cell_type": "code",
   "execution_count": 21,
   "metadata": {
    "colab": {
     "base_uri": "https://localhost:8080/"
    },
    "execution": {
     "iopub.execute_input": "2025-01-22T18:30:57.301366Z",
     "iopub.status.busy": "2025-01-22T18:30:57.301052Z",
     "iopub.status.idle": "2025-01-22T18:30:57.305505Z",
     "shell.execute_reply": "2025-01-22T18:30:57.304998Z",
     "shell.execute_reply.started": "2025-01-22T18:30:57.301346Z"
    },
    "id": "WObiYqwBGBd-",
    "outputId": "9a01c126-c901-4ca4-d13e-0fcbff0a0fe0",
    "tags": []
   },
   "outputs": [
    {
     "name": "stdout",
     "output_type": "stream",
     "text": [
      "\n",
      "Selecting a single column from Business DataFrame:\n",
      "0         Abby Rappoport, LAC, CMQ\n",
      "1                    The UPS Store\n",
      "2                           Target\n",
      "3               St Honore Pastries\n",
      "4         Perkiomen Valley Brewery\n",
      "                    ...           \n",
      "150341                Binh's Nails\n",
      "150342        Wild Birds Unlimited\n",
      "150343           Claire's Boutique\n",
      "150344    Cyclery & Fitness Center\n",
      "150345                     Sic Ink\n",
      "Name: name, Length: 150346, dtype: object\n"
     ]
    }
   ],
   "source": [
    "# Data Manipulation\n",
    "# Selection and Indexing\n",
    "# Select a single column\n",
    "print(\"\\nSelecting a single column from Business DataFrame:\")\n",
    "print(business_df['name'])"
   ]
  },
  {
   "cell_type": "code",
   "execution_count": 22,
   "metadata": {
    "colab": {
     "base_uri": "https://localhost:8080/"
    },
    "execution": {
     "iopub.execute_input": "2025-01-22T18:30:58.591342Z",
     "iopub.status.busy": "2025-01-22T18:30:58.591012Z",
     "iopub.status.idle": "2025-01-22T18:30:58.771224Z",
     "shell.execute_reply": "2025-01-22T18:30:58.770685Z",
     "shell.execute_reply.started": "2025-01-22T18:30:58.591321Z"
    },
    "id": "dkRCEH8WFuVS",
    "outputId": "7585198c-38f8-46f5-c7d3-459fc6682eae",
    "tags": []
   },
   "outputs": [
    {
     "name": "stdout",
     "output_type": "stream",
     "text": [
      "Business DataFrame Info:\n",
      "<class 'pandas.core.frame.DataFrame'>\n",
      "RangeIndex: 150346 entries, 0 to 150345\n",
      "Data columns (total 14 columns):\n",
      " #   Column        Non-Null Count   Dtype  \n",
      "---  ------        --------------   -----  \n",
      " 0   business_id   150346 non-null  object \n",
      " 1   name          150346 non-null  object \n",
      " 2   address       150346 non-null  object \n",
      " 3   city          150346 non-null  object \n",
      " 4   state         150346 non-null  object \n",
      " 5   postal_code   150346 non-null  object \n",
      " 6   latitude      150346 non-null  float64\n",
      " 7   longitude     150346 non-null  float64\n",
      " 8   stars         150346 non-null  float64\n",
      " 9   review_count  150346 non-null  int64  \n",
      " 10  is_open       150346 non-null  int64  \n",
      " 11  attributes    136602 non-null  object \n",
      " 12  categories    150243 non-null  object \n",
      " 13  hours         127123 non-null  object \n",
      "dtypes: float64(3), int64(2), object(9)\n",
      "memory usage: 16.1+ MB\n",
      "None\n"
     ]
    }
   ],
   "source": [
    "# Quick Inspection\n",
    "print(\"Business DataFrame Info:\")\n",
    "print(business_df.info())"
   ]
  },
  {
   "cell_type": "code",
   "execution_count": 23,
   "metadata": {
    "colab": {
     "base_uri": "https://localhost:8080/"
    },
    "execution": {
     "iopub.execute_input": "2025-01-22T18:31:01.162669Z",
     "iopub.status.busy": "2025-01-22T18:31:01.162159Z",
     "iopub.status.idle": "2025-01-22T18:31:01.170407Z",
     "shell.execute_reply": "2025-01-22T18:31:01.169885Z",
     "shell.execute_reply.started": "2025-01-22T18:31:01.162648Z"
    },
    "id": "44IkRmFSFy6c",
    "outputId": "9f3d8f27-1bfe-4cf9-ba68-c5171a91981c",
    "tags": []
   },
   "outputs": [
    {
     "name": "stdout",
     "output_type": "stream",
     "text": [
      "\n",
      "First few rows of the Business DataFrame:\n",
      "              business_id                      name  \\\n",
      "0  Pns2l4eNsfO8kk83dixA6A  Abby Rappoport, LAC, CMQ   \n",
      "1  mpf3x-BjTdTEA3yCZrAYPw             The UPS Store   \n",
      "2  tUFrWirKiKi_TAnsVWINQQ                    Target   \n",
      "3  MTSW4McQd7CbVtyjqoe9mw        St Honore Pastries   \n",
      "4  mWMc6_wTdE0EUBKIGXDVfA  Perkiomen Valley Brewery   \n",
      "\n",
      "                           address           city state postal_code  \\\n",
      "0           1616 Chapala St, Ste 2  Santa Barbara    CA       93101   \n",
      "1  87 Grasso Plaza Shopping Center         Affton    MO       63123   \n",
      "2             5255 E Broadway Blvd         Tucson    AZ       85711   \n",
      "3                      935 Race St   Philadelphia    PA       19107   \n",
      "4                    101 Walnut St     Green Lane    PA       18054   \n",
      "\n",
      "    latitude   longitude  stars  review_count  is_open  \\\n",
      "0  34.426679 -119.711197    5.0             7        0   \n",
      "1  38.551126  -90.335695    3.0            15        1   \n",
      "2  32.223236 -110.880452    3.5            22        0   \n",
      "3  39.955505  -75.155564    4.0            80        1   \n",
      "4  40.338183  -75.471659    4.5            13        1   \n",
      "\n",
      "                                          attributes  \\\n",
      "0                      {'ByAppointmentOnly': 'True'}   \n",
      "1             {'BusinessAcceptsCreditCards': 'True'}   \n",
      "2  {'BikeParking': 'True', 'BusinessAcceptsCredit...   \n",
      "3  {'RestaurantsDelivery': 'False', 'OutdoorSeati...   \n",
      "4  {'BusinessAcceptsCreditCards': 'True', 'Wheelc...   \n",
      "\n",
      "                                          categories  \\\n",
      "0  Doctors, Traditional Chinese Medicine, Naturop...   \n",
      "1  Shipping Centers, Local Services, Notaries, Ma...   \n",
      "2  Department Stores, Shopping, Fashion, Home & G...   \n",
      "3  Restaurants, Food, Bubble Tea, Coffee & Tea, B...   \n",
      "4                          Brewpubs, Breweries, Food   \n",
      "\n",
      "                                               hours  \n",
      "0                                               None  \n",
      "1  {'Monday': '0:0-0:0', 'Tuesday': '8:0-18:30', ...  \n",
      "2  {'Monday': '8:0-22:0', 'Tuesday': '8:0-22:0', ...  \n",
      "3  {'Monday': '7:0-20:0', 'Tuesday': '7:0-20:0', ...  \n",
      "4  {'Wednesday': '14:0-22:0', 'Thursday': '16:0-2...  \n"
     ]
    }
   ],
   "source": [
    "print(\"\\nFirst few rows of the Business DataFrame:\")\n",
    "print(business_df.head())"
   ]
  },
  {
   "cell_type": "code",
   "execution_count": 9,
   "metadata": {
    "colab": {
     "base_uri": "https://localhost:8080/"
    },
    "execution": {
     "iopub.execute_input": "2025-01-22T03:48:56.080400Z",
     "iopub.status.busy": "2025-01-22T03:48:56.080081Z",
     "iopub.status.idle": "2025-01-22T03:48:56.090881Z",
     "shell.execute_reply": "2025-01-22T03:48:56.090388Z",
     "shell.execute_reply.started": "2025-01-22T03:48:56.080381Z"
    },
    "id": "odwTwkGmGFkf",
    "outputId": "154acba5-d5bc-45f3-834d-e7996d3fe0bc",
    "tags": []
   },
   "outputs": [
    {
     "name": "stdout",
     "output_type": "stream",
     "text": [
      "\n",
      "Filtering businesses with star rating greater than 4:\n",
      "                business_id  \\\n",
      "0    Pns2l4eNsfO8kk83dixA6A   \n",
      "4    mWMc6_wTdE0EUBKIGXDVfA   \n",
      "13   jaxMSoInw8Poo3XeMJt8lQ   \n",
      "14   0bPLkL0QhhPO5kt1_EXmNQ   \n",
      "16   rBmpy_Y1UbBx8ggHlyb7hA   \n",
      "..                      ...   \n",
      "974  zKBIdA2j49REmU2bFR1mdw   \n",
      "978  oY6osC4Ch3PvguA7D1hh_w   \n",
      "991  SvcWlFeXbSNkENnZfWYgEQ   \n",
      "993  OCrqJ_5eS517_2QIYqCmDQ   \n",
      "999  sDOxVq8gQBpHFYtoxwoLWw   \n",
      "\n",
      "                                                  name  \\\n",
      "0                             Abby Rappoport, LAC, CMQ   \n",
      "4                             Perkiomen Valley Brewery   \n",
      "13                                        Adams Dental   \n",
      "14                                Zio's Italian Market   \n",
      "16                            Arizona Truck Outfitters   \n",
      "..                                                 ...   \n",
      "974  BayLife Physical Therapy and Rehabilitation- S...   \n",
      "978                                          Starbucks   \n",
      "991                                 willow + june hair   \n",
      "993                            Contemporary Automotive   \n",
      "999                                        Plume Salon   \n",
      "\n",
      "                                               address            city state  \\\n",
      "0                               1616 Chapala St, Ste 2   Santa Barbara    CA   \n",
      "4                                        101 Walnut St      Green Lane    PA   \n",
      "13                                   15 N Missouri Ave      Clearwater    FL   \n",
      "14                                       2575 E Bay Dr           Largo    FL   \n",
      "16                                     625 N Stone Ave          Tucson    AZ   \n",
      "..                                                 ...             ...   ...   \n",
      "974  8950 Doctor Martin Luther King Junior St N, St...  St. Petersburg    FL   \n",
      "978                                   1251 Route 130 S     Cinnaminson    NJ   \n",
      "991                                   6212 A Ridge Ave    Philadelphia    PA   \n",
      "993                                205 N Causeway Blvd        Metairie    LA   \n",
      "999                                   111 E Girard Ave    Philadelphia    PA   \n",
      "\n",
      "    postal_code   latitude   longitude  stars  review_count  is_open  \\\n",
      "0         93101  34.426679 -119.711197    5.0             7        0   \n",
      "4         18054  40.338183  -75.471659    4.5            13        1   \n",
      "13        33755  27.966235  -82.787412    5.0            10        1   \n",
      "14        33771  27.916116  -82.760461    4.5           100        0   \n",
      "16        85705  32.229872 -110.972342    4.5            10        1   \n",
      "..          ...        ...         ...    ...           ...      ...   \n",
      "974       33702  27.854197  -82.647427    5.0             9        1   \n",
      "978       08077  40.000157  -74.987313    4.5             7        1   \n",
      "991       19128  40.035794  -75.218028    5.0            24        1   \n",
      "993       70001  29.975724  -90.155533    5.0            11        1   \n",
      "999       19125  39.969190  -75.134038    4.5           138        1   \n",
      "\n",
      "                                            attributes  \\\n",
      "0                        {'ByAppointmentOnly': 'True'}   \n",
      "4    {'BusinessAcceptsCreditCards': 'True', 'Wheelc...   \n",
      "13                       {'ByAppointmentOnly': 'True'}   \n",
      "14   {'OutdoorSeating': 'False', 'RestaurantsGoodFo...   \n",
      "16   {'DriveThru': 'False', 'BusinessAcceptsCreditC...   \n",
      "..                                                 ...   \n",
      "974  {'ByAppointmentOnly': 'True', 'BusinessAccepts...   \n",
      "978  {'WiFi': 'u'free'', 'BusinessParking': '{'gara...   \n",
      "991  {'ByAppointmentOnly': 'True', 'RestaurantsPric...   \n",
      "993  {'BusinessAcceptsCreditCards': 'True', 'WiFi':...   \n",
      "999  {'BusinessAcceptsCreditCards': 'True', 'Busine...   \n",
      "\n",
      "                                            categories  \\\n",
      "0    Doctors, Traditional Chinese Medicine, Naturop...   \n",
      "4                            Brewpubs, Breweries, Food   \n",
      "13   General Dentistry, Dentists, Health & Medical,...   \n",
      "14         Food, Delis, Italian, Bakeries, Restaurants   \n",
      "16   Automotive, Auto Parts & Supplies, Auto Custom...   \n",
      "..                                                 ...   \n",
      "974  Rehabilitation Center, Health & Medical, Physi...   \n",
      "978                                 Coffee & Tea, Food   \n",
      "991  Beauty & Spas, Hair Extensions, Makeup Artists...   \n",
      "993  Auto Repair, Body Shops, Transmission Repair, ...   \n",
      "999  Waxing, Beauty & Spas, Eyelash Service, Used, ...   \n",
      "\n",
      "                                                 hours  \n",
      "0                                                 None  \n",
      "4    {'Wednesday': '14:0-22:0', 'Thursday': '16:0-2...  \n",
      "13   {'Monday': '7:30-15:30', 'Tuesday': '7:30-15:3...  \n",
      "14   {'Monday': '10:0-18:0', 'Tuesday': '10:0-20:0'...  \n",
      "16   {'Monday': '0:0-0:0', 'Tuesday': '8:0-17:0', '...  \n",
      "..                                                 ...  \n",
      "974  {'Monday': '8:0-19:0', 'Tuesday': '8:0-19:0', ...  \n",
      "978  {'Monday': '5:30-20:0', 'Tuesday': '5:30-20:0'...  \n",
      "991  {'Tuesday': '14:0-20:0', 'Wednesday': '14:0-20...  \n",
      "993  {'Monday': '7:0-18:0', 'Tuesday': '7:0-18:0', ...  \n",
      "999  {'Monday': '12:0-20:0', 'Tuesday': '10:0-20:0'...  \n",
      "\n",
      "[296 rows x 14 columns]\n"
     ]
    }
   ],
   "source": [
    "# Filtering and Sorting\n",
    "# Filter rows based on a condition\n",
    "print(\"\\nFiltering businesses with star rating greater than 4:\")\n",
    "print(business_df[business_df['stars'] > 4])"
   ]
  },
  {
   "cell_type": "code",
   "execution_count": 24,
   "metadata": {
    "colab": {
     "base_uri": "https://localhost:8080/"
    },
    "execution": {
     "iopub.execute_input": "2025-01-22T18:31:33.648096Z",
     "iopub.status.busy": "2025-01-22T18:31:33.647776Z",
     "iopub.status.idle": "2025-01-22T18:31:33.688671Z",
     "shell.execute_reply": "2025-01-22T18:31:33.688119Z",
     "shell.execute_reply.started": "2025-01-22T18:31:33.648076Z"
    },
    "id": "onrfWUiAGL7f",
    "outputId": "c49d9655-44a5-4c5d-97ee-9b431458dbc6",
    "tags": []
   },
   "outputs": [
    {
     "name": "stdout",
     "output_type": "stream",
     "text": [
      "\n",
      "Average star rating per business category:\n",
      "city\n",
      "AB Edmonton    4.500000\n",
      "AMBLER         3.000000\n",
      "ARDMORE        3.000000\n",
      "AVON           3.500000\n",
      "Abington       3.550296\n",
      "                 ...   \n",
      "wilmington     4.000000\n",
      "wimauma        4.500000\n",
      "​Clayton       4.000000\n",
      "​Largo         5.000000\n",
      "​Lithia        1.500000\n",
      "Name: stars, Length: 1416, dtype: float64\n"
     ]
    }
   ],
   "source": [
    "# Grouping and Aggregation\n",
    "# Group by a column and calculate the mean\n",
    "print(\"\\nAverage star rating per business category:\")\n",
    "print(business_df.groupby('city')['stars'].mean())"
   ]
  },
  {
   "cell_type": "markdown",
   "metadata": {
    "execution": {
     "iopub.execute_input": "2025-01-22T18:16:59.678918Z",
     "iopub.status.busy": "2025-01-22T18:16:59.678607Z",
     "iopub.status.idle": "2025-01-22T18:16:59.681625Z",
     "shell.execute_reply": "2025-01-22T18:16:59.681126Z",
     "shell.execute_reply.started": "2025-01-22T18:16:59.678898Z"
    }
   },
   "source": [
    "## Review Dataframe "
   ]
  },
  {
   "cell_type": "code",
   "execution_count": 25,
   "metadata": {
    "colab": {
     "base_uri": "https://localhost:8080/"
    },
    "execution": {
     "iopub.execute_input": "2025-01-22T18:32:19.632511Z",
     "iopub.status.busy": "2025-01-22T18:32:19.632193Z",
     "iopub.status.idle": "2025-01-22T18:32:19.638898Z",
     "shell.execute_reply": "2025-01-22T18:32:19.638391Z",
     "shell.execute_reply.started": "2025-01-22T18:32:19.632491Z"
    },
    "id": "QHXfj0oEF7M3",
    "outputId": "ee253f8e-a0b6-4a36-c601-71fed8e051d9",
    "tags": []
   },
   "outputs": [
    {
     "name": "stdout",
     "output_type": "stream",
     "text": [
      "\n",
      "Descriptive statistics of the Review DataFrame:\n",
      "<class 'pandas.core.frame.DataFrame'>\n",
      "RangeIndex: 6990280 entries, 0 to 6990279\n",
      "Data columns (total 9 columns):\n",
      " #   Column       Dtype         \n",
      "---  ------       -----         \n",
      " 0   review_id    object        \n",
      " 1   user_id      object        \n",
      " 2   business_id  object        \n",
      " 3   stars        int64         \n",
      " 4   useful       int64         \n",
      " 5   funny        int64         \n",
      " 6   cool         int64         \n",
      " 7   text         object        \n",
      " 8   date         datetime64[ns]\n",
      "dtypes: datetime64[ns](1), int64(4), object(4)\n",
      "memory usage: 480.0+ MB\n",
      "None\n"
     ]
    }
   ],
   "source": [
    "# Basic Statistics\n",
    "print(\"\\nDescriptive statistics of the Review DataFrame:\")\n",
    "print(review_df.info())"
   ]
  },
  {
   "cell_type": "code",
   "execution_count": 26,
   "metadata": {
    "execution": {
     "iopub.execute_input": "2025-01-22T18:32:23.939782Z",
     "iopub.status.busy": "2025-01-22T18:32:23.939459Z",
     "iopub.status.idle": "2025-01-22T18:32:24.734275Z",
     "shell.execute_reply": "2025-01-22T18:32:24.733740Z",
     "shell.execute_reply.started": "2025-01-22T18:32:23.939762Z"
    }
   },
   "outputs": [
    {
     "name": "stdout",
     "output_type": "stream",
     "text": [
      "              stars        useful         funny          cool  \\\n",
      "count  6.990280e+06  6.990280e+06  6.990280e+06  6.990280e+06   \n",
      "mean   3.748584e+00  1.184609e+00  3.265596e-01  4.986175e-01   \n",
      "min    1.000000e+00 -1.000000e+00 -1.000000e+00 -1.000000e+00   \n",
      "25%    3.000000e+00  0.000000e+00  0.000000e+00  0.000000e+00   \n",
      "50%    4.000000e+00  0.000000e+00  0.000000e+00  0.000000e+00   \n",
      "75%    5.000000e+00  1.000000e+00  0.000000e+00  0.000000e+00   \n",
      "max    5.000000e+00  1.182000e+03  7.920000e+02  4.040000e+02   \n",
      "std    1.478705e+00  3.253767e+00  1.688729e+00  2.172460e+00   \n",
      "\n",
      "                                date  \n",
      "count                        6990280  \n",
      "mean   2017-01-11 11:22:33.441780992  \n",
      "min              2005-02-16 03:23:22  \n",
      "25%    2015-01-25 04:53:50.249999872  \n",
      "50%              2017-06-03 01:26:07  \n",
      "75%    2019-05-23 00:02:46.249999872  \n",
      "max              2022-01-19 19:48:45  \n",
      "std                              NaN  \n"
     ]
    }
   ],
   "source": [
    "print(review_df.describe())"
   ]
  },
  {
   "cell_type": "code",
   "execution_count": 27,
   "metadata": {
    "colab": {
     "base_uri": "https://localhost:8080/"
    },
    "execution": {
     "iopub.execute_input": "2025-01-22T18:32:37.795558Z",
     "iopub.status.busy": "2025-01-22T18:32:37.795238Z",
     "iopub.status.idle": "2025-01-22T18:32:38.316190Z",
     "shell.execute_reply": "2025-01-22T18:32:38.315663Z",
     "shell.execute_reply.started": "2025-01-22T18:32:37.795538Z"
    },
    "id": "Or3WeZBbGC_Y",
    "outputId": "0a6d292e-4861-44b4-904d-dc4611802d82",
    "tags": []
   },
   "outputs": [
    {
     "name": "stdout",
     "output_type": "stream",
     "text": [
      "\n",
      "Selecting multiple columns from Review DataFrame:\n",
      "                        user_id             business_id  stars  \\\n",
      "0        mh_-eMZ6K5RLWhZyISBhwA  XQfwVwDr-v0ZS3_CbbE5Xw      3   \n",
      "1        OyoGAe7OKpv6SyGZT5g77Q  7ATYjTIgM3jUlt4UM3IypQ      5   \n",
      "2        8g_iMtfSiwikVnbP2etR0A  YjUWPpI6HXG530lwP-fb2A      3   \n",
      "3        _7bHUi9Uuf5__HHc_Q8guQ  kxX2SOes4o-D3ZQBkiMRfA      5   \n",
      "4        bcjbaE6dDog4jkNY91ncLQ  e4Vwtrqf-wpJfwesgvdgxQ      4   \n",
      "...                         ...                     ...    ...   \n",
      "6990275  qskILQ3k0I_qcCMI-k6_QQ  jals67o91gcrD4DC81Vk6w      5   \n",
      "6990276  Zo0th2m8Ez4gLSbHftiQvg  2vLksaMmSEcGbjI5gywpZA      5   \n",
      "6990277  mm6E4FbCMwJmb7kPDZ5v2Q  R1khUUxidqfaJmcpmGd4aw      4   \n",
      "6990278  YwAMC-jvZ1fvEUum6QkEkw  Rr9kKArrMhSLVE9a53q-aA      5   \n",
      "6990279  6JehEvdoCvZPJ_XIxnzIIw  VAeEXLbEcI9Emt9KGYq9aA      3   \n",
      "\n",
      "                       date  \n",
      "0       2018-07-07 22:09:11  \n",
      "1       2012-01-03 15:28:18  \n",
      "2       2014-02-05 20:30:30  \n",
      "3       2015-01-04 00:01:03  \n",
      "4       2017-01-14 20:54:15  \n",
      "...                     ...  \n",
      "6990275 2014-12-17 21:45:20  \n",
      "6990276 2021-03-31 16:55:10  \n",
      "6990277 2019-12-30 03:56:30  \n",
      "6990278 2022-01-19 18:59:27  \n",
      "6990279 2018-01-02 22:50:47  \n",
      "\n",
      "[6990280 rows x 4 columns]\n"
     ]
    }
   ],
   "source": [
    "# Select multiple columns\n",
    "print(\"\\nSelecting multiple columns from Review DataFrame:\")\n",
    "print(review_df[['user_id', 'business_id', 'stars', 'date']])"
   ]
  },
  {
   "cell_type": "code",
   "execution_count": 28,
   "metadata": {
    "colab": {
     "base_uri": "https://localhost:8080/"
    },
    "execution": {
     "iopub.execute_input": "2025-01-22T18:32:44.544266Z",
     "iopub.status.busy": "2025-01-22T18:32:44.543946Z",
     "iopub.status.idle": "2025-01-22T18:32:53.733325Z",
     "shell.execute_reply": "2025-01-22T18:32:53.732755Z",
     "shell.execute_reply.started": "2025-01-22T18:32:44.544243Z"
    },
    "id": "xesD3q-cGIQs",
    "outputId": "869d4f0a-581e-4610-d674-68fa4e01c637",
    "tags": []
   },
   "outputs": [
    {
     "name": "stdout",
     "output_type": "stream",
     "text": [
      "\n",
      "Sorting Review DataFrame by date:\n",
      "                      review_id                 user_id  \\\n",
      "4179799  IykJMMZgbNcUndwf1q6ieg  3zBJUlWtPNoZ0uN83ODbyg   \n",
      "6295220  -O5ng1XLox6uEr4uIZ8u5A  3zBJUlWtPNoZ0uN83ODbyg   \n",
      "4887456  g80vzN72iU03Wh0fSpq41g  3zBJUlWtPNoZ0uN83ODbyg   \n",
      "1423159  7Dcrt0Oz0hikA8obGhadrQ  XCsZ3hWa_6oP1WkWvK7pmg   \n",
      "4884223  WC9q5vhQlQkLK05kEs-vYQ  XCsZ3hWa_6oP1WkWvK7pmg   \n",
      "...                         ...                     ...   \n",
      "4878781  11yPqFYtkACY7TWKc5MNzA  lmiiFd9KC15fs4xtEoXRvw   \n",
      "2710116  L0KaPI67DcTN4wwqfz6A3w  2Mb0st9WVyccaz6sKNLHWw   \n",
      "6251618  3wqrZowVYwSPEh8p5nLn1g  3TQKP7KlNRdrI2gOkG7slg   \n",
      "5476035  gUkdqUCMJCJ38HVlLZxlgg  i1PMqye40QWNkJ0MYGHuzg   \n",
      "4863327  6BXQO_LAmMolJ5BYieGDsA  IH0ToaZ8hJXO2pVieN7dpQ   \n",
      "\n",
      "                    business_id  stars  useful  funny  cool  \\\n",
      "4179799  2bXm0SynOfxDzfrdrCyXqg      4       0      0     0   \n",
      "6295220  3g6XqkBikTTbZmTukbeGnw      4       1      0     0   \n",
      "4887456  PP3BBaVxZLcJU54uP_wL6Q      5       0      0     0   \n",
      "1423159  U3grYFIeu6RgAAQgdriHww      5       0      0     0   \n",
      "4884223  Aes-0Q_guDeYewMapFs_vg      2       0      0     0   \n",
      "...                         ...    ...     ...    ...   ...   \n",
      "4878781  XDMno4l95AXgYOd0yDtHZA      5       0      0     0   \n",
      "2710116  M88FFZZ2o_7QKpCFA_8RtA      5       0      0     0   \n",
      "6251618  jVg-KTXEFIeAq47DTp4Hrw      5       0      0     0   \n",
      "5476035  J0joPXxmN-_9Lzafspqdbw      5       0      0     0   \n",
      "4863327  VItkA7pL82rCZdxHH8vBGA      5       0      0     0   \n",
      "\n",
      "                                                      text                date  \n",
      "4179799  It's not chicago style pizza but it is still a... 2005-02-16 03:23:22  \n",
      "6295220  Great service.  The people really want to help... 2005-02-16 03:29:39  \n",
      "4887456  These guys really are the king of cheese steak... 2005-02-16 04:06:26  \n",
      "1423159  Words cannot describe how much I miss this pla... 2005-03-01 16:57:17  \n",
      "4884223  Food is decent but is a complete tourist trap.... 2005-03-01 16:59:37  \n",
      "...                                                    ...                 ...  \n",
      "4878781  Such yummy food and great customer service! I ... 2022-01-19 19:48:13  \n",
      "2710116  I LOVE Subaru of Cherry Hill.  I have bought n... 2022-01-19 19:48:16  \n",
      "6251618  Jerry did an excellent job! My car is running ... 2022-01-19 19:48:19  \n",
      "5476035  Love love love this place! Great food and alwa... 2022-01-19 19:48:25  \n",
      "4863327  This was amongst my favorite Yelp Elite events... 2022-01-19 19:48:45  \n",
      "\n",
      "[6990280 rows x 9 columns]\n"
     ]
    }
   ],
   "source": [
    "# Sort DataFrame by column values\n",
    "print(\"\\nSorting Review DataFrame by date:\")\n",
    "print(review_df.sort_values(by='date'))"
   ]
  },
  {
   "cell_type": "code",
   "execution_count": 29,
   "metadata": {
    "colab": {
     "base_uri": "https://localhost:8080/"
    },
    "execution": {
     "iopub.execute_input": "2025-01-22T18:33:00.782752Z",
     "iopub.status.busy": "2025-01-22T18:33:00.782434Z",
     "iopub.status.idle": "2025-01-22T18:33:02.657679Z",
     "shell.execute_reply": "2025-01-22T18:33:02.657171Z",
     "shell.execute_reply.started": "2025-01-22T18:33:00.782732Z"
    },
    "id": "U53cklHpGNCp",
    "outputId": "dcd18855-df78-4d6d-bcb9-28816e5a2e71",
    "tags": []
   },
   "outputs": [
    {
     "name": "stdout",
     "output_type": "stream",
     "text": [
      "\n",
      "Aggregations on Review DataFrame grouped by user and business:\n",
      "                           stars  useful  funny  cool\n",
      "business_id                                          \n",
      "---kPU91CF4Lq2-WlRu9Lw  4.500000      16      1    13\n",
      "--0iUa4sNDFiZFrAdIWhZQ  3.214286      25      3     4\n",
      "--30_8IhuyMHbSOcNWd6DQ  3.555556       7      2     0\n",
      "--7PUidqRWpRSpXebiyxTg  1.750000       9      2     0\n",
      "--7jw19RH9JKXgFohspgQw  4.230769      16      0     0\n",
      "...                          ...     ...    ...   ...\n",
      "zznZqH9CiAznbkV6fXyHWA  4.916667      23      3    17\n",
      "zztOG2cKm87I6Iw_tleZsQ  4.833333       1      0     2\n",
      "zzu6_r3DxBJuXcjnOYVdTw  3.625000       9      0     3\n",
      "zzw66H6hVjXQEt0Js3Mo4A  3.600000       4      0     0\n",
      "zzyx5x0Z7xXWWvWnZFuxlQ  2.500000      12      1     1\n",
      "\n",
      "[150346 rows x 4 columns]\n"
     ]
    }
   ],
   "source": [
    "# Group by multiple columns and apply different aggregations\n",
    "print(\"\\nAggregations on Review DataFrame grouped by user and business:\")\n",
    "print(review_df.groupby(['business_id']).agg({'stars': 'mean', 'useful': 'sum', 'funny': 'sum', 'cool': 'sum'}))"
   ]
  },
  {
   "cell_type": "markdown",
   "metadata": {},
   "source": [
    "## Checking for missing data"
   ]
  },
  {
   "cell_type": "code",
   "execution_count": 30,
   "metadata": {
    "colab": {
     "base_uri": "https://localhost:8080/"
    },
    "execution": {
     "iopub.execute_input": "2025-01-22T18:34:57.474840Z",
     "iopub.status.busy": "2025-01-22T18:34:57.474528Z",
     "iopub.status.idle": "2025-01-22T18:34:58.463541Z",
     "shell.execute_reply": "2025-01-22T18:34:58.463019Z",
     "shell.execute_reply.started": "2025-01-22T18:34:57.474822Z"
    },
    "id": "Uay_UdfCGQdP",
    "outputId": "79f700da-3a47-4ea7-fa9f-714350974dbd",
    "tags": []
   },
   "outputs": [
    {
     "name": "stdout",
     "output_type": "stream",
     "text": [
      "\n",
      "Checking for missing values in User DataFrame:\n",
      "user_id               0\n",
      "name                  0\n",
      "review_count          0\n",
      "yelping_since         0\n",
      "useful                0\n",
      "funny                 0\n",
      "cool                  0\n",
      "elite                 0\n",
      "friends               0\n",
      "fans                  0\n",
      "average_stars         0\n",
      "compliment_hot        0\n",
      "compliment_more       0\n",
      "compliment_profile    0\n",
      "compliment_cute       0\n",
      "compliment_list       0\n",
      "compliment_note       0\n",
      "compliment_plain      0\n",
      "compliment_cool       0\n",
      "compliment_funny      0\n",
      "compliment_writer     0\n",
      "compliment_photos     0\n",
      "dtype: int64\n"
     ]
    }
   ],
   "source": [
    "# Check for missing values \n",
    "print(\"\\nChecking for missing values in User DataFrame:\")\n",
    "print(user_df.isnull().sum())"
   ]
  },
  {
   "cell_type": "code",
   "execution_count": 31,
   "metadata": {
    "execution": {
     "iopub.execute_input": "2025-01-22T18:35:41.294105Z",
     "iopub.status.busy": "2025-01-22T18:35:41.293782Z",
     "iopub.status.idle": "2025-01-22T18:35:41.650148Z",
     "shell.execute_reply": "2025-01-22T18:35:41.649612Z",
     "shell.execute_reply.started": "2025-01-22T18:35:41.294086Z"
    }
   },
   "outputs": [
    {
     "name": "stdout",
     "output_type": "stream",
     "text": [
      "\n",
      "Checking for missing values in Tip DataFrame:\n",
      "user_id             0\n",
      "business_id         0\n",
      "text                0\n",
      "date                0\n",
      "compliment_count    0\n",
      "dtype: int64\n"
     ]
    }
   ],
   "source": [
    "print(\"\\nChecking for missing values in Tip DataFrame:\")\n",
    "print(tip_df.isnull().sum())"
   ]
  },
  {
   "cell_type": "code",
   "execution_count": 33,
   "metadata": {
    "execution": {
     "iopub.execute_input": "2025-01-22T18:38:28.299084Z",
     "iopub.status.busy": "2025-01-22T18:38:28.298768Z",
     "iopub.status.idle": "2025-01-22T18:38:28.334538Z",
     "shell.execute_reply": "2025-01-22T18:38:28.333937Z",
     "shell.execute_reply.started": "2025-01-22T18:38:28.299065Z"
    }
   },
   "outputs": [
    {
     "name": "stdout",
     "output_type": "stream",
     "text": [
      "\n",
      "Checking for missing values in checkin DataFrame:\n",
      "business_id    0\n",
      "date           0\n",
      "dtype: int64\n"
     ]
    }
   ],
   "source": [
    "print(\"\\nChecking for missing values in checkin DataFrame:\")\n",
    "print(checkin_df.isnull().sum())"
   ]
  },
  {
   "cell_type": "code",
   "execution_count": 32,
   "metadata": {
    "colab": {
     "base_uri": "https://localhost:8080/"
    },
    "execution": {
     "iopub.execute_input": "2025-01-22T18:37:37.755730Z",
     "iopub.status.busy": "2025-01-22T18:37:37.755415Z",
     "iopub.status.idle": "2025-01-22T18:37:38.243800Z",
     "shell.execute_reply": "2025-01-22T18:37:38.243287Z",
     "shell.execute_reply.started": "2025-01-22T18:37:37.755712Z"
    },
    "id": "rlmn_JA-HB5m",
    "outputId": "ccc548a6-40dd-4714-9334-d85c84489aa3",
    "tags": []
   },
   "outputs": [
    {
     "name": "stdout",
     "output_type": "stream",
     "text": [
      "\n",
      "Dropping rows with missing values in Tip DataFrame:\n",
      "                       user_id             business_id  \\\n",
      "0       AGNUgVwnZUey3gcPCJ76iw  3uLgwr0qeCNMjKenHJwPGQ   \n",
      "1       NBN4MgHP9D3cw--SnauTkA  QoezRbYQncpRqyrLH6Iqjg   \n",
      "2       -copOvldyKh1qr-vzkDEvw  MYoRNLb5chwjQe3c_k37Gg   \n",
      "3       FjMQVZjSqY8syIO-53KFKw  hV-bABTK-glh5wj31ps_Jw   \n",
      "4       ld0AperBXk1h6UbqmM80zw  _uN0OudeJ3Zl_tf6nxg5ww   \n",
      "...                        ...                     ...   \n",
      "908910  eYodOTF8pkqKPzHkcxZs-Q  3lHTewuKFt5IImbXJoFeDQ   \n",
      "908911  1uxtQAuJ2T5Xwa_wp7kUnA  OaGf0Dp56ARhQwIDT90w_g   \n",
      "908912  v48Spe6WEpqehsF2xQADpg  hYnMeAO77RGyTtIzUSKYzQ   \n",
      "908913  ckqKGM2hl7I9Chp5IpAhkw  s2eyoTuJrcP7I_XyjdhUHQ   \n",
      "908914  4tF1CWdMxvvwpUIgGsDygA  _cb1Vg1NIWry8UA0jyuXnQ   \n",
      "\n",
      "                                                     text                date  \\\n",
      "0                          Avengers time with the ladies. 2012-05-18 02:17:21   \n",
      "1       They have lots of good deserts and tasty cuban... 2013-02-05 18:35:10   \n",
      "2                  It's open even when you think it isn't 2013-08-18 00:56:08   \n",
      "3                               Very decent fried chicken 2017-06-27 23:05:38   \n",
      "4                  Appetizers.. platter special for lunch 2012-10-06 19:43:09   \n",
      "...                                                   ...                 ...   \n",
      "908910              Disappointed in one of your managers. 2021-09-11 19:18:57   \n",
      "908911                            Great food and service. 2021-10-30 11:54:36   \n",
      "908912                                Love their Cubans!! 2021-11-05 13:18:56   \n",
      "908913                            Great pizza great price 2021-11-20 16:11:44   \n",
      "908914                  Food is good value but a bit hot! 2021-12-07 22:30:00   \n",
      "\n",
      "        compliment_count  \n",
      "0                      0  \n",
      "1                      0  \n",
      "2                      0  \n",
      "3                      0  \n",
      "4                      0  \n",
      "...                  ...  \n",
      "908910                 0  \n",
      "908911                 0  \n",
      "908912                 0  \n",
      "908913                 0  \n",
      "908914                 0  \n",
      "\n",
      "[908915 rows x 5 columns]\n"
     ]
    }
   ],
   "source": [
    "# Drop rows with missing values\n",
    "print(\"\\nDropping rows with missing values in Tip DataFrame:\")\n",
    "print(tip_df.dropna())"
   ]
  },
  {
   "cell_type": "code",
   "execution_count": 34,
   "metadata": {
    "colab": {
     "base_uri": "https://localhost:8080/"
    },
    "execution": {
     "iopub.execute_input": "2025-01-22T18:38:47.611455Z",
     "iopub.status.busy": "2025-01-22T18:38:47.610855Z",
     "iopub.status.idle": "2025-01-22T18:38:47.672571Z",
     "shell.execute_reply": "2025-01-22T18:38:47.672040Z",
     "shell.execute_reply.started": "2025-01-22T18:38:47.611434Z"
    },
    "id": "nrrk6LJfHDUf",
    "outputId": "ca6541ab-4f9f-4758-bba8-dc893f86ef09",
    "tags": []
   },
   "outputs": [
    {
     "name": "stdout",
     "output_type": "stream",
     "text": [
      "\n",
      "Filling missing values with 0 in Checkin DataFrame:\n",
      "                   business_id  \\\n",
      "0       ---kPU91CF4Lq2-WlRu9Lw   \n",
      "1       --0iUa4sNDFiZFrAdIWhZQ   \n",
      "2       --30_8IhuyMHbSOcNWd6DQ   \n",
      "3       --7PUidqRWpRSpXebiyxTg   \n",
      "4       --7jw19RH9JKXgFohspgQw   \n",
      "...                        ...   \n",
      "131925  zznJox6-nmXlGYNWgTDwQQ   \n",
      "131926  zznZqH9CiAznbkV6fXyHWA   \n",
      "131927  zzu6_r3DxBJuXcjnOYVdTw   \n",
      "131928  zzw66H6hVjXQEt0Js3Mo4A   \n",
      "131929  zzyx5x0Z7xXWWvWnZFuxlQ   \n",
      "\n",
      "                                                     date  \n",
      "0       2020-03-13 21:10:56, 2020-06-02 22:18:06, 2020...  \n",
      "1       2010-09-13 21:43:09, 2011-05-04 23:08:15, 2011...  \n",
      "2                2013-06-14 23:29:17, 2014-08-13 23:20:22  \n",
      "3       2011-02-15 17:12:00, 2011-07-28 02:46:10, 2012...  \n",
      "4       2014-04-21 20:42:11, 2014-04-28 21:04:46, 2014...  \n",
      "...                                                   ...  \n",
      "131925  2013-03-23 16:22:47, 2013-04-07 02:03:12, 2013...  \n",
      "131926                                2021-06-12 01:16:12  \n",
      "131927  2011-05-24 01:35:13, 2012-01-01 23:44:33, 2012...  \n",
      "131928           2016-12-03 23:33:26, 2018-12-02 19:08:45  \n",
      "131929                                2015-01-06 17:51:53  \n",
      "\n",
      "[131930 rows x 2 columns]\n"
     ]
    }
   ],
   "source": [
    "# Fill missing values with a specific value\n",
    "print(\"\\nFilling missing values with 0 in Checkin DataFrame:\")\n",
    "print(checkin_df.fillna(0))"
   ]
  },
  {
   "cell_type": "markdown",
   "metadata": {},
   "source": [
    "# Data Visualization"
   ]
  },
  {
   "cell_type": "code",
   "execution_count": 36,
   "metadata": {
    "colab": {
     "base_uri": "https://localhost:8080/",
     "height": 482
    },
    "execution": {
     "iopub.execute_input": "2025-01-22T18:39:40.411873Z",
     "iopub.status.busy": "2025-01-22T18:39:40.411550Z",
     "iopub.status.idle": "2025-01-22T18:39:40.881135Z",
     "shell.execute_reply": "2025-01-22T18:39:40.880571Z",
     "shell.execute_reply.started": "2025-01-22T18:39:40.411853Z"
    },
    "id": "_mIFg3WiHFWR",
    "outputId": "8058f060-9699-4dc6-8c93-5b9db2d17158",
    "tags": []
   },
   "outputs": [
    {
     "name": "stdout",
     "output_type": "stream",
     "text": [
      "\n",
      "Histogram of stars in Review DataFrame:\n"
     ]
    },
    {
     "data": {
      "text/plain": [
       "<Axes: ylabel='Frequency'>"
      ]
     },
     "execution_count": 36,
     "metadata": {},
     "output_type": "execute_result"
    },
    {
     "data": {
      "image/png": "[encoded data removed]",
      "text/plain": [
       "<Figure size 640x480 with 1 Axes>"
      ]
     },
     "metadata": {},
     "output_type": "display_data"
    }
   ],
   "source": [
    "# Plot a histogram\n",
    "print(\"\\nHistogram of stars in Review DataFrame:\")\n",
    "review_df['stars'].plot(kind='hist')"
   ]
  },
  {
   "cell_type": "code",
   "execution_count": 37,
   "metadata": {
    "colab": {
     "base_uri": "https://localhost:8080/",
     "height": 501
    },
    "execution": {
     "iopub.execute_input": "2025-01-22T18:39:44.312520Z",
     "iopub.status.busy": "2025-01-22T18:39:44.312193Z",
     "iopub.status.idle": "2025-01-22T18:40:04.402905Z",
     "shell.execute_reply": "2025-01-22T18:40:04.402244Z",
     "shell.execute_reply.started": "2025-01-22T18:39:44.312499Z"
    },
    "id": "FhTE870ZHIuq",
    "outputId": "fb1bf37f-dbb0-4038-d69a-0059e0fc2169",
    "tags": []
   },
   "outputs": [
    {
     "name": "stdout",
     "output_type": "stream",
     "text": [
      "\n",
      "Scatter plot of stars vs. useful votes in Review DataFrame:\n"
     ]
    },
    {
     "data": {
      "text/plain": [
       "<Axes: xlabel='stars', ylabel='useful'>"
      ]
     },
     "execution_count": 37,
     "metadata": {},
     "output_type": "execute_result"
    },
    {
     "data": {
      "image/png": "[encoded data removed]",
      "text/plain": [
       "<Figure size 640x480 with 1 Axes>"
      ]
     },
     "metadata": {},
     "output_type": "display_data"
    }
   ],
   "source": [
    "# Scatter plot\n",
    "print(\"\\nScatter plot of stars vs. useful votes in Review DataFrame:\")\n",
    "review_df.plot(x='stars', y='useful', kind='scatter')"
   ]
  },
  {
   "cell_type": "code",
   "execution_count": 40,
   "metadata": {
    "colab": {
     "base_uri": "https://localhost:8080/",
     "height": 472
    },
    "execution": {
     "iopub.execute_input": "2025-01-22T18:41:45.270695Z",
     "iopub.status.busy": "2025-01-22T18:41:45.270361Z",
     "iopub.status.idle": "2025-01-22T18:41:56.354699Z",
     "shell.execute_reply": "2025-01-22T18:41:56.354146Z",
     "shell.execute_reply.started": "2025-01-22T18:41:45.270674Z"
    },
    "id": "9Rsb4JmNHPcW",
    "outputId": "4deb7e61-5304-4a25-ca9b-16c5d82ed906",
    "tags": []
   },
   "outputs": [
    {
     "data": {
      "image/png": "[encoded data removed]",
      "text/plain": [
       "<Figure size 640x480 with 1 Axes>"
      ]
     },
     "metadata": {},
     "output_type": "display_data"
    }
   ],
   "source": [
    "plt.title(\"Scatter plot with Matplotlib\")\n",
    "plt.xlabel(\"Stars\")\n",
    "plt.ylabel(\"Useful Votes\")\n",
    "plt.scatter(review_df['stars'], review_df['useful'])\n",
    "plt.show()"
   ]
  },
  {
   "cell_type": "markdown",
   "metadata": {},
   "source": [
    "# Restaurant Reviews in Arizona "
   ]
  },
  {
   "cell_type": "code",
   "execution_count": 41,
   "metadata": {
    "execution": {
     "iopub.execute_input": "2025-01-22T18:55:41.953849Z",
     "iopub.status.busy": "2025-01-22T18:55:41.953522Z",
     "iopub.status.idle": "2025-01-22T18:55:48.205558Z",
     "shell.execute_reply": "2025-01-22T18:55:48.205012Z",
     "shell.execute_reply.started": "2025-01-22T18:55:41.953829Z"
    },
    "id": "am1Vz8dvauum",
    "tags": []
   },
   "outputs": [],
   "source": [
    "# business_file_path must be of the s3 bucket.\n",
    "\n",
    "business_df = pd.read_json(business_file_path,lines=True)\n",
    "# Filter business IDs for Restaurants in Arizona\n",
    "restaurant_business_ids_az = business_df.dropna(subset=['categories', 'state'])\n",
    "restaurant_business_ids_az = restaurant_business_ids_az[\n",
    "    (restaurant_business_ids_az['categories'].apply(lambda x: 'Restaurants' in x)) &\n",
    "    (restaurant_business_ids_az['state'] == 'AZ')\n",
    "]['business_id']"
   ]
  },
  {
   "cell_type": "code",
   "execution_count": 42,
   "metadata": {
    "colab": {
     "base_uri": "https://localhost:8080/"
    },
    "execution": {
     "iopub.execute_input": "2025-01-22T18:55:57.481159Z",
     "iopub.status.busy": "2025-01-22T18:55:57.480857Z",
     "iopub.status.idle": "2025-01-22T18:55:57.485750Z",
     "shell.execute_reply": "2025-01-22T18:55:57.485277Z",
     "shell.execute_reply.started": "2025-01-22T18:55:57.481138Z"
    },
    "id": "bHH5DP-MchXz",
    "outputId": "50725853-21e2-4683-8141-241eada43363",
    "tags": []
   },
   "outputs": [
    {
     "data": {
      "text/plain": [
       "45     wghnIlMb_i5U46HMBGx9ig\n",
       "78     x9K0RfZaT_zlw6DklBDzjw\n",
       "126    anLQj9AM8vjbcLSIE0iUgg\n",
       "132    9C2rpb56aQvW0ViZHK9sPw\n",
       "234    Y6heWJJ9AmEL58fZwgi9YQ\n",
       "Name: business_id, dtype: object"
      ]
     },
     "execution_count": 42,
     "metadata": {},
     "output_type": "execute_result"
    }
   ],
   "source": [
    "restaurant_business_ids_az.head()"
   ]
  },
  {
   "cell_type": "code",
   "execution_count": 43,
   "metadata": {
    "colab": {
     "base_uri": "https://localhost:8080/"
    },
    "execution": {
     "iopub.execute_input": "2025-01-22T18:56:02.640284Z",
     "iopub.status.busy": "2025-01-22T18:56:02.639963Z",
     "iopub.status.idle": "2025-01-22T18:56:02.647500Z",
     "shell.execute_reply": "2025-01-22T18:56:02.646978Z",
     "shell.execute_reply.started": "2025-01-22T18:56:02.640264Z"
    },
    "id": "JKbQY9K6bK5U",
    "outputId": "9fb72dfa-6d89-4949-ffc0-079d59397612",
    "tags": []
   },
   "outputs": [
    {
     "name": "stdout",
     "output_type": "stream",
     "text": [
      "<class 'pandas.core.series.Series'>\n",
      "Index: 2671 entries, 45 to 150275\n",
      "Series name: business_id\n",
      "Non-Null Count  Dtype \n",
      "--------------  ----- \n",
      "2671 non-null   object\n",
      "dtypes: object(1)\n",
      "memory usage: 41.7+ KB\n"
     ]
    }
   ],
   "source": [
    "restaurant_business_ids_az.info()"
   ]
  },
  {
   "cell_type": "code",
   "execution_count": 44,
   "metadata": {
    "colab": {
     "base_uri": "https://localhost:8080/"
    },
    "execution": {
     "iopub.execute_input": "2025-01-22T18:56:16.333294Z",
     "iopub.status.busy": "2025-01-22T18:56:16.332639Z",
     "iopub.status.idle": "2025-01-22T18:56:16.738036Z",
     "shell.execute_reply": "2025-01-22T18:56:16.737547Z",
     "shell.execute_reply.started": "2025-01-22T18:56:16.333263Z"
    },
    "id": "X1ZXZXeWdzYj",
    "outputId": "6343a5f3-3e20-4006-f325-eb13f69dd58b",
    "tags": []
   },
   "outputs": [
    {
     "data": {
      "text/plain": [
       "6"
      ]
     },
     "execution_count": 44,
     "metadata": {},
     "output_type": "execute_result"
    }
   ],
   "source": [
    "del business_df\n",
    "gc.collect()"
   ]
  },
  {
   "cell_type": "code",
   "execution_count": 47,
   "metadata": {
    "execution": {
     "iopub.execute_input": "2025-01-22T19:01:16.298106Z",
     "iopub.status.busy": "2025-01-22T19:01:16.297798Z",
     "iopub.status.idle": "2025-01-22T19:06:18.037886Z",
     "shell.execute_reply": "2025-01-22T19:06:18.037248Z",
     "shell.execute_reply.started": "2025-01-22T19:01:16.298085Z"
    },
    "id": "mWN--CBOKVtc",
    "tags": []
   },
   "outputs": [],
   "source": [
    "chunksize = 100000  # Adjust this depending on your memory limits\n",
    "chunks = pd.read_json(review_file_path, lines=True, chunksize=chunksize)\n",
    "# Optionally, process each chunk and append to a list or concatenate later\n",
    "review_df = pd.concat(chunk for chunk in chunks)"
   ]
  },
  {
   "cell_type": "code",
   "execution_count": 48,
   "metadata": {
    "execution": {
     "iopub.execute_input": "2025-01-22T19:06:31.180531Z",
     "iopub.status.busy": "2025-01-22T19:06:31.180168Z",
     "iopub.status.idle": "2025-01-22T19:06:32.781187Z",
     "shell.execute_reply": "2025-01-22T19:06:32.780588Z",
     "shell.execute_reply.started": "2025-01-22T19:06:31.180507Z"
    },
    "id": "OMtc7B35aq-a",
    "tags": []
   },
   "outputs": [],
   "source": [
    "# Filter reviews based on the selected business IDs\n",
    "restaurant_reviews_az = review_df[review_df['business_id'].isin(restaurant_business_ids_az)]"
   ]
  },
  {
   "cell_type": "code",
   "execution_count": 49,
   "metadata": {
    "colab": {
     "base_uri": "https://localhost:8080/"
    },
    "execution": {
     "iopub.execute_input": "2025-01-22T19:06:35.761746Z",
     "iopub.status.busy": "2025-01-22T19:06:35.761440Z",
     "iopub.status.idle": "2025-01-22T19:06:35.932038Z",
     "shell.execute_reply": "2025-01-22T19:06:35.931502Z",
     "shell.execute_reply.started": "2025-01-22T19:06:35.761725Z"
    },
    "id": "h6YgNVMGeVtl",
    "outputId": "d662ebdb-e012-4917-9ead-d07a66fd5682",
    "tags": []
   },
   "outputs": [
    {
     "name": "stdout",
     "output_type": "stream",
     "text": [
      "Selected Restaurant Reviews in Arizona :\n",
      "<class 'pandas.core.frame.DataFrame'>\n",
      "Index: 267036 entries, 2 to 6990237\n",
      "Data columns (total 9 columns):\n",
      " #   Column       Non-Null Count   Dtype         \n",
      "---  ------       --------------   -----         \n",
      " 0   review_id    267036 non-null  object        \n",
      " 1   user_id      267036 non-null  object        \n",
      " 2   business_id  267036 non-null  object        \n",
      " 3   stars        267036 non-null  int64         \n",
      " 4   useful       267036 non-null  int64         \n",
      " 5   funny        267036 non-null  int64         \n",
      " 6   cool         267036 non-null  int64         \n",
      " 7   text         267036 non-null  object        \n",
      " 8   date         267036 non-null  datetime64[ns]\n",
      "dtypes: datetime64[ns](1), int64(4), object(4)\n",
      "memory usage: 20.4+ MB\n",
      "None\n"
     ]
    }
   ],
   "source": [
    "# Display basic information about the selected reviews\n",
    "print(\"Selected Restaurant Reviews in Arizona :\")\n",
    "print(restaurant_reviews_az.info())"
   ]
  },
  {
   "cell_type": "code",
   "execution_count": 50,
   "metadata": {
    "colab": {
     "base_uri": "https://localhost:8080/"
    },
    "execution": {
     "iopub.execute_input": "2025-01-22T19:06:38.868057Z",
     "iopub.status.busy": "2025-01-22T19:06:38.867740Z",
     "iopub.status.idle": "2025-01-22T19:06:38.873759Z",
     "shell.execute_reply": "2025-01-22T19:06:38.873257Z",
     "shell.execute_reply.started": "2025-01-22T19:06:38.868037Z"
    },
    "id": "MWGsz4R8ehHY",
    "outputId": "58a91b7d-77ef-43d6-88b4-1e3acaeab2b9",
    "tags": []
   },
   "outputs": [
    {
     "name": "stdout",
     "output_type": "stream",
     "text": [
      "\n",
      "First few rows of selected reviews:\n",
      "                  review_id                 user_id             business_id  \\\n",
      "2    saUsX_uimxRlCVr67Z4Jig  8g_iMtfSiwikVnbP2etR0A  YjUWPpI6HXG530lwP-fb2A   \n",
      "14   UBp0zWyH60Hmw6Fsasei7w  4Uh27DgGzsp6PqrH913giQ  otQS34_MymijPTdNBoBdCw   \n",
      "75   ymhbOMW63B_vGaRFR3XT0A  yZdAhQ_KmKuCZmbBy9YDQg  5Ce3lZksYVkCbrihqylVHQ   \n",
      "93   onlgwy5qGDEzddsrnIvtWg  pYXeL0RCqus2IfhthYCOyA  W7NxQw8UYFR0HLPrI08tvw   \n",
      "147  ypFqmURIY41F4pWaMW1VrQ  hToW2eoTAYlOcuNz7I73Cg  7L1kXfwU5XM6f6Jxo_L7Yg   \n",
      "\n",
      "     stars  useful  funny  cool  \\\n",
      "2        3       0      0     0   \n",
      "14       4       0      2     0   \n",
      "75       5       0      0     0   \n",
      "93       4       0      0     0   \n",
      "147      5       1      0     0   \n",
      "\n",
      "                                                  text                date  \n",
      "2    Family diner. Had the buffet. Eclectic assortm... 2014-02-05 20:30:30  \n",
      "14   The bun makes the Sonoran Dog. It's like a snu... 2011-10-27 17:12:05  \n",
      "75   I just started going to Sushi Nara this month ... 2014-07-25 17:56:26  \n",
      "93   Don't know what it is but If my tummy's feelin... 2012-02-01 14:21:25  \n",
      "147  We've been coming here since I was a kid. The ... 2015-07-03 22:36:04  \n"
     ]
    }
   ],
   "source": [
    "# Show the first few rows of the selected reviews\n",
    "print(\"\\nFirst few rows of selected reviews:\")\n",
    "print(restaurant_reviews_az.head())"
   ]
  },
  {
   "cell_type": "code",
   "execution_count": 51,
   "metadata": {
    "colab": {
     "base_uri": "https://localhost:8080/",
     "height": 211
    },
    "execution": {
     "iopub.execute_input": "2025-01-22T19:06:44.315123Z",
     "iopub.status.busy": "2025-01-22T19:06:44.314809Z",
     "iopub.status.idle": "2025-01-22T19:06:47.151572Z",
     "shell.execute_reply": "2025-01-22T19:06:47.151089Z",
     "shell.execute_reply.started": "2025-01-22T19:06:44.315103Z"
    },
    "id": "5EiNfHQif5x1",
    "outputId": "138eb096-36c8-41c3-83ec-2e37fceebde8",
    "tags": []
   },
   "outputs": [
    {
     "data": {
      "text/plain": [
       "582"
      ]
     },
     "execution_count": 51,
     "metadata": {},
     "output_type": "execute_result"
    }
   ],
   "source": [
    "del review_df\n",
    "gc.collect()"
   ]
  },
  {
   "cell_type": "code",
   "execution_count": 52,
   "metadata": {
    "execution": {
     "iopub.execute_input": "2025-01-22T19:06:47.290326Z",
     "iopub.status.busy": "2025-01-22T19:06:47.290059Z",
     "iopub.status.idle": "2025-01-22T19:06:47.712130Z",
     "shell.execute_reply": "2025-01-22T19:06:47.711602Z",
     "shell.execute_reply.started": "2025-01-22T19:06:47.290307Z"
    },
    "id": "r3rIbeY-gFAF",
    "tags": []
   },
   "outputs": [],
   "source": [
    "restaurant_reviews_az = restaurant_reviews_az[restaurant_reviews_az['date'] > \"2020-01-01 00:00:00\" ]"
   ]
  },
  {
   "cell_type": "code",
   "execution_count": 53,
   "metadata": {
    "colab": {
     "base_uri": "https://localhost:8080/"
    },
    "execution": {
     "iopub.execute_input": "2025-01-22T19:06:52.787320Z",
     "iopub.status.busy": "2025-01-22T19:06:52.787009Z",
     "iopub.status.idle": "2025-01-22T19:06:52.824764Z",
     "shell.execute_reply": "2025-01-22T19:06:52.824237Z",
     "shell.execute_reply.started": "2025-01-22T19:06:52.787301Z"
    },
    "id": "05mA9_XLgmXd",
    "outputId": "cf8a844c-d8b4-4bf8-9758-6dc6a2f15433",
    "tags": []
   },
   "outputs": [
    {
     "name": "stdout",
     "output_type": "stream",
     "text": [
      "<class 'pandas.core.frame.DataFrame'>\n",
      "Index: 48147 entries, 298786 to 6990237\n",
      "Data columns (total 9 columns):\n",
      " #   Column       Non-Null Count  Dtype         \n",
      "---  ------       --------------  -----         \n",
      " 0   review_id    48147 non-null  object        \n",
      " 1   user_id      48147 non-null  object        \n",
      " 2   business_id  48147 non-null  object        \n",
      " 3   stars        48147 non-null  int64         \n",
      " 4   useful       48147 non-null  int64         \n",
      " 5   funny        48147 non-null  int64         \n",
      " 6   cool         48147 non-null  int64         \n",
      " 7   text         48147 non-null  object        \n",
      " 8   date         48147 non-null  datetime64[ns]\n",
      "dtypes: datetime64[ns](1), int64(4), object(4)\n",
      "memory usage: 3.7+ MB\n"
     ]
    }
   ],
   "source": [
    "restaurant_reviews_az.info()"
   ]
  },
  {
   "cell_type": "code",
   "execution_count": 56,
   "metadata": {
    "execution": {
     "iopub.execute_input": "2025-01-22T19:08:36.112298Z",
     "iopub.status.busy": "2025-01-22T19:08:36.111986Z",
     "iopub.status.idle": "2025-01-22T19:08:37.832304Z",
     "shell.execute_reply": "2025-01-22T19:08:37.831785Z",
     "shell.execute_reply.started": "2025-01-22T19:08:36.112278Z"
    },
    "id": "p1hgCohseieZ"
   },
   "outputs": [],
   "source": [
    "# Save selected restaurant reviews to a CSV file\n",
    "csv_file_path = s3_bucket_path+'restaurant_reviews_az.csv'\n",
    "restaurant_reviews_az.to_csv(csv_file_path, index=False)"
   ]
  },
  {
   "cell_type": "code",
   "execution_count": 57,
   "metadata": {
    "colab": {
     "base_uri": "https://localhost:8080/"
    },
    "execution": {
     "iopub.execute_input": "2025-01-22T19:08:39.485399Z",
     "iopub.status.busy": "2025-01-22T19:08:39.485090Z",
     "iopub.status.idle": "2025-01-22T19:08:39.488519Z",
     "shell.execute_reply": "2025-01-22T19:08:39.488041Z",
     "shell.execute_reply.started": "2025-01-22T19:08:39.485381Z"
    },
    "id": "2Eag_UkUejqO",
    "outputId": "139c7700-dcb9-4f9c-9a16-71d2ddbeaa4e",
    "tags": []
   },
   "outputs": [
    {
     "name": "stdout",
     "output_type": "stream",
     "text": [
      "Selected restaurant reviews in Arizona saved to s3://amazon-sagemaker-058264306111-us-east-1-e23504aef6c5/dzd_5l5kah6gnsnq3r/bzbm82rtfbxpgn/dev/restaurant_reviews_az.csv\n"
     ]
    }
   ],
   "source": [
    "# Print a message indicating the save was successful\n",
    "print(f\"Selected restaurant reviews in Arizona saved to {csv_file_path}\")"
   ]
  },
  {
   "cell_type": "code",
   "execution_count": null,
   "metadata": {},
   "outputs": [],
   "source": []
  }
 ],
 "metadata": {
  "colab": {
   "machine_shape": "hm",
   "provenance": []
  },
  "kernelspec": {
   "display_name": "Python 3 (ipykernel)",
   "language": "python",
   "name": "python3"
  },
  "language_info": {
   "codemirror_mode": {
    "name": "ipython",
    "version": 3
   },
   "file_extension": ".py",
   "mimetype": "text/x-python",
   "name": "python",
   "nbconvert_exporter": "python",
   "pygments_lexer": "ipython3",
   "version": "3.11.11"
  }
 },
 "nbformat": 4,
 "nbformat_minor": 4
}
