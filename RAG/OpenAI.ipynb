{
 "cells": [
  {
   "cell_type": "markdown",
   "id": "ed3b2418",
   "metadata": {},
   "source": [
    "# Summary\n",
    "\n",
    "This Jupyter Notebook demonstrates the process of loading and querying documents using the `llama_index` library. The workflow includes:\n",
    "\n",
    "1. **Environment Setup**:\n",
    "    - Applying `nest_asyncio` to allow nested event loops.\n",
    "    - Loading environment variables using `dotenv`.\n",
    "\n",
    "2. **Library Imports**:\n",
    "    - Importing necessary libraries such as `numpy`, `pandas`, and `llama_index`.\n",
    "\n",
    "3. **Loading Environment Variables**:\n",
    "    - Using `load_dotenv()` to load environment variables from a `.env` file.\n",
    "\n",
    "4. **Document Loading**:\n",
    "    - Reading documents from a directory using `SimpleDirectoryReader`.\n",
    "\n",
    "5. **Index Creation**:\n",
    "    - Creating a `VectorStoreIndex` from the loaded documents.\n",
    "\n",
    "6. **Query Engine Setup**:\n",
    "    - Setting up a query engine from the created index.\n",
    "\n",
    "7. **Query Execution**:\n",
    "    - Executing a query to retrieve information about the weight of quizzes in the final grade."
   ]
  },
  {
   "cell_type": "code",
   "execution_count": null,
   "id": "585a426c-c553-4f53-88e2-32f3fdc2787f",
   "metadata": {},
   "outputs": [],
   "source": [
    "import nest_asyncio\n",
    "nest_asyncio.apply()\n",
    "import os\n",
    "from dotenv import load_dotenv"
   ]
  },
  {
   "cell_type": "code",
   "execution_count": null,
   "id": "4a8693f1-5d3d-4766-b818-95f4e9fce709",
   "metadata": {},
   "outputs": [],
   "source": [
    "import numpy as np\n",
    "import pandas as pd"
   ]
  },
  {
   "cell_type": "code",
   "execution_count": null,
   "id": "e0157c0b-bead-4e19-beb6-fb2393630fb0",
   "metadata": {},
   "outputs": [],
   "source": [
    "from llama_index.core import VectorStoreIndex, SimpleDirectoryReader, Settings\n",
    "from llama_index.llms.openai import OpenAI"
   ]
  },
  {
   "cell_type": "code",
   "execution_count": null,
   "id": "dc0cea04-5487-4e14-8581-a31a83ec5b7b",
   "metadata": {},
   "outputs": [],
   "source": [
    "load_dotenv()"
   ]
  },
  {
   "cell_type": "code",
   "execution_count": null,
   "id": "0b834051-3f1f-40bb-a61e-a0b31d40d69a",
   "metadata": {},
   "outputs": [],
   "source": [
    "documents = SimpleDirectoryReader(\"pdf\").load_data()\n",
    "index = VectorStoreIndex.from_documents(\n",
    "    documents,\n",
    ")"
   ]
  },
  {
   "cell_type": "code",
   "execution_count": null,
   "id": "a6d625d1-36c1-424a-b394-2d8b6cedcfe6",
   "metadata": {},
   "outputs": [],
   "source": [
    "query_engine = index.as_query_engine()"
   ]
  },
  {
   "cell_type": "code",
   "execution_count": null,
   "id": "7d498c72-3442-4b7f-a5f6-1bb26d51025a",
   "metadata": {},
   "outputs": [],
   "source": [
    "response = query_engine.query(\"What is the weight of quizzes in the final grade?\")\n",
    "print(response)"
   ]
  }
 ],
 "metadata": {
  "kernelspec": {
   "display_name": "Python 3 (ipykernel)",
   "language": "python",
   "name": "python3"
  },
  "language_info": {
   "codemirror_mode": {
    "name": "ipython",
    "version": 3
   },
   "file_extension": ".py",
   "mimetype": "text/x-python",
   "name": "python",
   "nbconvert_exporter": "python",
   "pygments_lexer": "ipython3",
   "version": "3.12.2"
  }
 },
 "nbformat": 4,
 "nbformat_minor": 5
}
